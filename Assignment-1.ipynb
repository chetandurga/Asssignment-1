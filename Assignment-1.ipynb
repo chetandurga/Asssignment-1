{
 "cells": [
  {
   "cell_type": "markdown",
   "id": "751d752b-3f37-408e-878b-26a3acaba4ae",
   "metadata": {},
   "source": [
    "1. In the below elements which of them are values or an expression? eg:- values can be integer or string and expressions will be mathematical operators.\n",
    "\n",
    "* - expression\n",
    "'hello' - values (String)\n",
    "-87.8  - values  (int)\n",
    "- expression\n",
    "/ -  expression\n",
    "\n",
    "6 - value (int)\n"
   ]
  },
  {
   "cell_type": "markdown",
   "id": "aa33177a-751f-40c7-8ed5-78b8b218954c",
   "metadata": {},
   "source": [
    "2. What is the difference between string and variable?\n",
    "   \n",
    "   1. Variable is a named location used to store data in memory\n",
    "   2. Strings in Python are sequences of character data. They are created by enclosing characters in quotes.\n",
    "   3. A variable can hold a string, but a string can't hold a variable\n",
    "   4. A string is the values inside the quotes assigned to a string.\n",
    "   \n",
    "   Example a = \"Hello\"\n",
    "\n",
    "Here a is Variable and \"Hello\" is string"
   ]
  },
  {
   "cell_type": "markdown",
   "id": "229915d5-9feb-4fd8-8afe-b9ae45e9bde6",
   "metadata": {},
   "source": [
    "3. Describe three different data types.\n",
    "\n",
    "Ans-   1. Integers: Integers are whole numbers, without a fractional component. They can be positive or negative.Example-X=10\n",
    "        y=-2 \n",
    "       2. Floats: Floats represent real numbers and are written with a decimal point.\n",
    "           Example-X=10.2    \n",
    "       3.  Strings: Strings in Python are sequences of character data. They are created by enclosing characters in quotes.\n",
    "           Example-a=\"chetans\"      "
   ]
  },
  {
   "cell_type": "markdown",
   "id": "af17325f-9d2d-4376-a9b3-c22b4e11baa6",
   "metadata": {},
   "source": [
    "4. What is an expression made up of? What do all expressions do?\n",
    "\n",
    "Ans-   An expression is a combination of operators, constants and variables. An expression may consist of one or more operands, and zero or more operators to produce a value.\n",
    "\n",
    "Note:- we can use some mathematical operators with string also, but those operators will work different with string. This concept is known as operator overloading.\n",
    "\n",
    "Example:- 2+5-8, 100/5*2+4 are the example of expressions."
   ]
  },
  {
   "cell_type": "markdown",
   "id": "a6ba7d07-fa08-4a12-9e72-2a08eb9327e0",
   "metadata": {},
   "source": [
    "5. This assignment statements, like spam = 10. What is the difference between an expression and a statement\n",
    "\n",
    "Ans-   The assignment statement or we can say the assignment operator is used to store the value into a variable. whereas an expression are made up of mathematical operators and the numbers which gives us a resultant output.\n",
    "we can use assignment operator to store our expression result to a variable.\n",
    "\n",
    "Example:- name = 'Akhand Pratap' #This is an assignment statement with assignment operator =.\n",
    "          result = 100/5*2+4     #Here 100/5*2+4 this is an expression and we are storing the result of this expression in"
   ]
  },
  {
   "cell_type": "markdown",
   "id": "5a8efde1-c982-4afa-86fd-8ffc8ee199a4",
   "metadata": {},
   "source": [
    "6. After running the following code, what does the variable bacon contain?\n",
    "bacon = 22\n",
    "bacon + 1\n",
    "\n",
    "variable bacon contain-22"
   ]
  },
  {
   "cell_type": "code",
   "execution_count": 1,
   "id": "5eaecd5f-7254-4702-85eb-898d1d3a186d",
   "metadata": {},
   "outputs": [
    {
     "name": "stdout",
     "output_type": "stream",
     "text": [
      "23\n"
     ]
    }
   ],
   "source": [
    "bacon=22\n",
    "print(bacon+1)"
   ]
  },
  {
   "cell_type": "markdown",
   "id": "b925923e-5293-4d41-8f7e-55a395e89b2f",
   "metadata": {},
   "source": [
    "7. What should the values of the following two terms be?\n",
    "'spam' + 'spamspam'\n",
    "'spam' * 3\n"
   ]
  },
  {
   "cell_type": "code",
   "execution_count": 4,
   "id": "37ddaced-bf63-4bee-abb1-79f48d8202ce",
   "metadata": {},
   "outputs": [
    {
     "name": "stdout",
     "output_type": "stream",
     "text": [
      "spamspamspam\n",
      "spamspamspam\n"
     ]
    }
   ],
   "source": [
    "print('spam' + 'spamspam')\n",
    "print('spam' * 3)\n",
    "\n",
    "#Both will have the same value which is 'spamspamspam'. Here + operator will concatenate both the string and will make result 'spamspamspam'  and  * operator will repeat the 'spam' string 3 times and will make 'spamspamspam'\n",
    "\n",
    "#Hence both result will be equal.\n"
   ]
  },
  {
   "cell_type": "markdown",
   "id": "4895ae7a-52c0-438a-9a24-7fad7c171905",
   "metadata": {},
   "source": [
    "8. Why is eggs a valid variable name while 100 is invalid?\n",
    "\n",
    "Ans- eggs is a valid variable name while 100 is not valid because a variable name can not start with number.\n",
    "\n",
    "#Here are the rules related to Python variable naming:\n",
    "\n",
    "A variable name must start with a letter or the underscore character\n",
    "A variable name cannot start with a number\n",
    "A variable name can only contain alpha-numeric characters and underscores (A-z, 0-9, and _ )\n",
    "Variable names are case-sensitive (age, Age and AGE are three different variables)"
   ]
  },
  {
   "cell_type": "markdown",
   "id": "024e44fd-ff23-4787-8bef-03b7823aec46",
   "metadata": {},
   "source": [
    "9. What three functions can be used to get the integer, floating-point number, or string version of a value?\n",
    "\n",
    "   Ans9:-\n",
    "\n",
    "(i) int()\n",
    "(ii) float()\n",
    "(iii) str()"
   ]
  },
  {
   "cell_type": "markdown",
   "id": "0c450bbc-ddbe-47af-a0aa-54279c9eb72e",
   "metadata": {},
   "source": [
    "10. Why does this expression cause an error? How can you fix it?\n",
    "'I have eaten ' + 99 + ' burritos.'\n",
    "\n",
    "Ans- we can concatenate a string with other string using + operator. while + operator works differently with integers. Here 99 is an integer. That's why it is causing an error.\n",
    "To fix this error, we have to type-cast the 99 which is an integer to string by using str() function.\n",
    "\n",
    "Example:- 'I have eaten ' + str(99) + ' burritos.' \n"
   ]
  },
  {
   "cell_type": "code",
   "execution_count": 5,
   "id": "6bf166c8-def6-4b9e-bfcc-23c956290f49",
   "metadata": {},
   "outputs": [
    {
     "ename": "TypeError",
     "evalue": "can only concatenate str (not \"int\") to str",
     "output_type": "error",
     "traceback": [
      "\u001b[0;31m---------------------------------------------------------------------------\u001b[0m",
      "\u001b[0;31mTypeError\u001b[0m                                 Traceback (most recent call last)",
      "Cell \u001b[0;32mIn [5], line 1\u001b[0m\n\u001b[0;32m----> 1\u001b[0m \u001b[38;5;124;43m'\u001b[39;49m\u001b[38;5;124;43mI have eaten \u001b[39;49m\u001b[38;5;124;43m'\u001b[39;49m\u001b[43m \u001b[49m\u001b[38;5;241;43m+\u001b[39;49m\u001b[43m \u001b[49m\u001b[38;5;241;43m99\u001b[39;49m \u001b[38;5;241m+\u001b[39m \u001b[38;5;124m'\u001b[39m\u001b[38;5;124m burritos.\u001b[39m\u001b[38;5;124m'\u001b[39m\n",
      "\u001b[0;31mTypeError\u001b[0m: can only concatenate str (not \"int\") to str"
     ]
    }
   ],
   "source": [
    "'I have eaten ' + 99 + ' burritos.'"
   ]
  },
  {
   "cell_type": "code",
   "execution_count": 1,
   "id": "3d3aa14a-bed8-4103-a05d-02127c1118bd",
   "metadata": {},
   "outputs": [
    {
     "name": "stdout",
     "output_type": "stream",
     "text": [
      "I have eaten99 burritos.\n"
     ]
    }
   ],
   "source": [
    "print('I have eaten' + str(99) +' burritos.')"
   ]
  },
  {
   "cell_type": "code",
   "execution_count": null,
   "id": "9c76bc60-c28f-4e50-a62d-6837721ee241",
   "metadata": {},
   "outputs": [],
   "source": []
  }
 ],
 "metadata": {
  "kernelspec": {
   "display_name": "Python 3 (ipykernel)",
   "language": "python",
   "name": "python3"
  },
  "language_info": {
   "codemirror_mode": {
    "name": "ipython",
    "version": 3
   },
   "file_extension": ".py",
   "mimetype": "text/x-python",
   "name": "python",
   "nbconvert_exporter": "python",
   "pygments_lexer": "ipython3",
   "version": "3.10.6"
  }
 },
 "nbformat": 4,
 "nbformat_minor": 5
}
