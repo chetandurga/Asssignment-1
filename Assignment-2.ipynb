{
 "cells": [
  {
   "cell_type": "markdown",
   "id": "72565977-ee8a-4438-8f34-f723f74f3091",
   "metadata": {},
   "source": [
    "1.What are the two values of the Boolean data type? How do you write them?\n",
    "\n",
    "Ans-The two boolean types in python are True and False\n",
    "    In the Boolean True \"T\" should be in capital letter and \"rue\" should be in small\n",
    "    In the Boolean False \"F\" should be in capital letter and \"alse\" should be in small\n"
   ]
  },
  {
   "cell_type": "markdown",
   "id": "d5ecbcfd-3d9b-4bda-98ec-f636428bc76a",
   "metadata": {},
   "source": [
    "2. What are the three different types of Boolean operators?\n",
    "\n",
    "Ans- There are mainly three types of Boolean operators in python : logical AND, logical OR and logical NOT. \n",
    "     They are used in the code as and,or and not"
   ]
  },
  {
   "cell_type": "markdown",
   "id": "256be63d-3672-49c5-a578-7de2a6a4a3ce",
   "metadata": {},
   "source": [
    "3. Make a list of each Boolean operator's truth tables (i.e. every possible combination of Boolean values for the operator and what it evaluate ).\n",
    "\n",
    "True and True - True\n",
    "True ans False- False\n",
    "False ans True- False\n",
    "False ans False- False\n",
    "\n",
    "True or True - True\n",
    "True or False- F\n",
    "False ans True- False\n",
    "False ans False- False\n",
    "\n"
   ]
  },
  {
   "cell_type": "markdown",
   "id": "e055160c-809c-468b-bdc9-cfd3e2a7188b",
   "metadata": {},
   "source": [
    "4. What are the values of the following expressions?\n",
    "    - (5 > 4) and (3 == 5) \n",
    "    - not (5 > 4)-\n",
    "    - (5 > 4) or (3 == 5)\n",
    "    - not ((5 > 4) or (3 == 5))\n",
    "    - (True and True) and (True == False)\n",
    "    - (not False) or (not True)\n",
    "    \n",
    "Ans--- (5 > 4) and (3 == 5)  - > True and False = False\n",
    "      - not (5 > 4) -> not(True) = False\n",
    "      - (5 > 4) or (3 == 5) -> True or False = True\n",
    "      - not ((5 > 4) or (3 == 5)) -> not(True) - >False\n",
    "      - (True and True) and (True == False) - > (True) and (False) = False\n",
    "      - (not False) or (not True) -> True or False = True\n",
    "    "
   ]
  },
  {
   "cell_type": "code",
   "execution_count": 1,
   "id": "f17e9726-01b8-4440-a17a-1651af863dab",
   "metadata": {},
   "outputs": [
    {
     "data": {
      "text/plain": [
       "False"
      ]
     },
     "execution_count": 1,
     "metadata": {},
     "output_type": "execute_result"
    }
   ],
   "source": [
    " (5 > 4) and (3 == 5)"
   ]
  },
  {
   "cell_type": "code",
   "execution_count": 2,
   "id": "c88a55ee-d0aa-4ee5-85df-1c105fe41a23",
   "metadata": {},
   "outputs": [
    {
     "data": {
      "text/plain": [
       "False"
      ]
     },
     "execution_count": 2,
     "metadata": {},
     "output_type": "execute_result"
    }
   ],
   "source": [
    " not (5 > 4)"
   ]
  },
  {
   "cell_type": "code",
   "execution_count": 3,
   "id": "253312c8-871b-48a1-9402-a58bba820b1e",
   "metadata": {},
   "outputs": [
    {
     "data": {
      "text/plain": [
       "True"
      ]
     },
     "execution_count": 3,
     "metadata": {},
     "output_type": "execute_result"
    }
   ],
   "source": [
    "(5 > 4) or (3 == 5)"
   ]
  },
  {
   "cell_type": "code",
   "execution_count": 4,
   "id": "16c49480-50aa-4fb2-9ac2-ffb9c9d65fb1",
   "metadata": {},
   "outputs": [
    {
     "data": {
      "text/plain": [
       "False"
      ]
     },
     "execution_count": 4,
     "metadata": {},
     "output_type": "execute_result"
    }
   ],
   "source": [
    "not ((5 > 4) or (3 == 5))"
   ]
  },
  {
   "cell_type": "code",
   "execution_count": 5,
   "id": "695421c7-6232-4792-931e-f0cbb7a10700",
   "metadata": {},
   "outputs": [
    {
     "data": {
      "text/plain": [
       "False"
      ]
     },
     "execution_count": 5,
     "metadata": {},
     "output_type": "execute_result"
    }
   ],
   "source": [
    "(True and True) and (True == False)"
   ]
  },
  {
   "cell_type": "code",
   "execution_count": 6,
   "id": "bd68eaeb-d6c0-4315-95fa-f46f427f4d82",
   "metadata": {},
   "outputs": [
    {
     "data": {
      "text/plain": [
       "True"
      ]
     },
     "execution_count": 6,
     "metadata": {},
     "output_type": "execute_result"
    }
   ],
   "source": [
    "(not False) or (not True)"
   ]
  },
  {
   "cell_type": "code",
   "execution_count": null,
   "id": "843b258f-2994-4359-9b42-fcbad4b0d1d3",
   "metadata": {},
   "outputs": [],
   "source": [
    "5. What are the six comparison operators?\n",
    "Answer: Following are 6 comparision operator in Python\n",
    "        == -> Equal \n",
    "        != -> Not equal\n",
    "        > -> Greater than\n",
    "        < -> Less than\n",
    "        >= -> Greater than or equal to\n",
    "        <= -> Less than or equal to"
   ]
  },
  {
   "cell_type": "markdown",
   "id": "c923bc5f-860b-4f78-b3cb-05774364713a",
   "metadata": {},
   "source": [
    "6. How do you tell the difference between the equal to and assignment operators?Describe a condition and when you would use one.\n",
    "Ans-Assignment operator \"=\"\n",
    "It is an assignment operator.\n",
    "It is used for assigning the value to a variable.\n",
    "example a = 10, str = \"Bhanu\"\n",
    "Constant term cannot be placed on left hand side.\n",
    "Example: 1=x; is invalid.\n",
    "      \n",
    "\n",
    "Equal to Operator \"==\"\n",
    "It is a relational or comparison operator\n",
    "It is used for comparing two values. It returns 1 if both the values are equal otherwise returns 0.\n",
    "Constant term can be placed in the left hand side.\n",
    "Example: 1==1 is valid and returns 1.\n",
    "\n",
    "example :\n",
    "\n",
    "x=10\n",
    "y=10\n",
    "\n",
    "if x==y:\n",
    "    print(\"True\")\n",
    "else:\n",
    "    print(\"False\")"
   ]
  },
  {
   "cell_type": "code",
   "execution_count": 7,
   "id": "db3fd674-c981-40b3-916a-988299a39138",
   "metadata": {},
   "outputs": [
    {
     "name": "stdout",
     "output_type": "stream",
     "text": [
      "True\n"
     ]
    }
   ],
   "source": [
    "x=10\n",
    "y=10\n",
    "\n",
    "if x==y:\n",
    "    print(\"True\")\n",
    "else:\n",
    "    print(\"False\")"
   ]
  },
  {
   "cell_type": "markdown",
   "id": "50349589-e0d8-4c01-a649-606195a93cd4",
   "metadata": {},
   "source": [
    "7. Identify the three blocks in this code:\n",
    "spam = 0 \n",
    "\n",
    "if spam == 10:\n",
    "    print(\"eggs\")  \n",
    "\n",
    "if spam > 5:\n",
    "    print(\"bacon\")\n",
    "else:\n",
    "    print(\"ham\")\n",
    "    print(\"spam\")\n",
    "    print(\"spam\")\n",
    "    \n",
    "Ans-A block is a piece of python program text is executed as a unit.\n",
    "    ex-a module, a function, etc.\n",
    "    \n",
    "    Here everything inside the if statement, print(\"bacon\"), print(\"ham\")"
   ]
  },
  {
   "cell_type": "code",
   "execution_count": 8,
   "id": "05c7bd03-ee51-4d5d-b97d-957cb5e07842",
   "metadata": {},
   "outputs": [
    {
     "name": "stdout",
     "output_type": "stream",
     "text": [
      "ham\n",
      "spam\n",
      "spam\n"
     ]
    }
   ],
   "source": [
    "spam = 0  # fist Block\n",
    "\n",
    "if spam == 10:  # Second Block\n",
    "    print(\"eggs\")  \n",
    "\n",
    "if spam > 5:  # Third Block\n",
    "    print(\"bacon\")\n",
    "else:\n",
    "    print(\"ham\")\n",
    "    print(\"spam\")\n",
    "    print(\"spam\")"
   ]
  },
  {
   "cell_type": "markdown",
   "id": "1ac0f16a-0ae1-4ca1-b50c-29c91b8e507b",
   "metadata": {},
   "source": [
    "8. Write code that prints Hello if 1 is stored in spam, prints Howdy if 2 is stored in spam, and prints Greetings! if anything else is stored in spam."
   ]
  },
  {
   "cell_type": "code",
   "execution_count": 13,
   "id": "66a0fdb7-bb2a-4507-87b9-81ed9b2712a7",
   "metadata": {},
   "outputs": [
    {
     "name": "stdin",
     "output_type": "stream",
     "text": [
      "Enter spam value : 3\n"
     ]
    },
    {
     "name": "stdout",
     "output_type": "stream",
     "text": [
      "Greetings!!!\n"
     ]
    }
   ],
   "source": [
    "spam = int(input(\"Enter spam value :\"))\n",
    "if spam == 1 :\n",
    "    print(\"Hello\")\n",
    "elif spam == 2:\n",
    "    print(\"Howdy\")\n",
    "else:\n",
    "    print(\"Greetings!!!\")"
   ]
  },
  {
   "cell_type": "markdown",
   "id": "548e0d61-5578-4347-9fa4-787ed2aaf00d",
   "metadata": {},
   "source": [
    "9.If your programme is stuck in an endless loop, what keys you’ll press?\n",
    "Answer : Press CTRL + c to exit from a infinite loop"
   ]
  },
  {
   "cell_type": "markdown",
   "id": "2708ab16-90a4-45e6-b3da-930d0495b97e",
   "metadata": {},
   "source": [
    "10. How can you tell the difference between break and continue?\n",
    "Ans- The break and continue both are used to skip the iteration of a loop. These keywords are helpful in controlling the flow of the program. Difference between break and continue:\n",
    "\n",
    "The break statement terminates the whole iteration of a loop whereas continue skips the current iteration.\n",
    "The break statement terminates the whole loop early whereas the continue brings the next iteration early.\n",
    "In a loop for switch, break acts as terminator for case only whereas continue acts as terminator for case and skips the current iteration of loop."
   ]
  },
  {
   "cell_type": "code",
   "execution_count": 14,
   "id": "ee0e641a-ebfd-4651-9ff3-0e58cbcec4f2",
   "metadata": {},
   "outputs": [
    {
     "name": "stdout",
     "output_type": "stream",
     "text": [
      "2\n"
     ]
    }
   ],
   "source": [
    "#Break Example\n",
    "A = [1,2,3]\n",
    "cnt = 0\n",
    "for i in A:\n",
    "    cnt+=A[i]\n",
    "    print(cnt)\n",
    "    if cnt == 2:\n",
    "        break\n",
    "#In this example, the loop will break after the count is equal to 2."
   ]
  },
  {
   "cell_type": "code",
   "execution_count": 15,
   "id": "8487ec7e-4d24-4713-93ac-64669e190d2a",
   "metadata": {},
   "outputs": [
    {
     "name": "stdout",
     "output_type": "stream",
     "text": [
      "0\n",
      "1\n",
      "3\n"
     ]
    }
   ],
   "source": [
    "# contune example\n",
    "for i in range(4):\n",
    "    if (i==2):\n",
    "        continue\n",
    "    print(i)\n",
    "#This example would print all numbers from 0-4 except 2"
   ]
  },
  {
   "cell_type": "markdown",
   "id": "0464bc9e-fdb7-4160-9bee-98f10f1c8c93",
   "metadata": {},
   "source": [
    "11. In a for loop, what is the difference between range(10), range(0, 10), and range(0, 10, 1)?\n",
    "Ams - There is no difference in the range(10), range(0,10) and range(0,10,1). range by default takes 0 as starting point and 1 as by default increment."
   ]
  },
  {
   "cell_type": "code",
   "execution_count": 16,
   "id": "ccf2a206-1921-4727-b907-632a575b29fe",
   "metadata": {},
   "outputs": [
    {
     "name": "stdout",
     "output_type": "stream",
     "text": [
      "0\n",
      "1\n",
      "2\n",
      "3\n",
      "4\n",
      "5\n",
      "6\n",
      "7\n",
      "8\n",
      "9\n"
     ]
    }
   ],
   "source": [
    "for i in range(10):\n",
    "    print(i)"
   ]
  },
  {
   "cell_type": "code",
   "execution_count": 17,
   "id": "d9b20659-cf11-4208-9658-529ac482a860",
   "metadata": {},
   "outputs": [
    {
     "name": "stdout",
     "output_type": "stream",
     "text": [
      "0\n",
      "1\n",
      "2\n",
      "3\n",
      "4\n",
      "5\n",
      "6\n",
      "7\n",
      "8\n",
      "9\n"
     ]
    }
   ],
   "source": [
    "for i in range(0,10):\n",
    "    print(i)"
   ]
  },
  {
   "cell_type": "code",
   "execution_count": 18,
   "id": "87c213d9-9be5-4ad9-9b85-b53a8545eb2a",
   "metadata": {},
   "outputs": [
    {
     "name": "stdout",
     "output_type": "stream",
     "text": [
      "0\n",
      "1\n",
      "2\n",
      "3\n",
      "4\n",
      "5\n",
      "6\n",
      "7\n",
      "8\n",
      "9\n"
     ]
    }
   ],
   "source": [
    "for i in range(0,10,1):\n",
    "    print(i)"
   ]
  },
  {
   "cell_type": "markdown",
   "id": "47f6be88-2a8f-49f1-9cd0-4b2d818a37ef",
   "metadata": {},
   "source": [
    "12. Write a short program that prints the numbers 1 to 10 using a for loop. Then write an equivalent program that prints the numbers 1 to 10 using a while loop."
   ]
  },
  {
   "cell_type": "code",
   "execution_count": 19,
   "id": "2ca002a3-97dc-4baa-8143-2e42044caa64",
   "metadata": {},
   "outputs": [
    {
     "name": "stdout",
     "output_type": "stream",
     "text": [
      "1\n",
      "2\n",
      "3\n",
      "4\n",
      "5\n",
      "6\n",
      "7\n",
      "8\n",
      "9\n",
      "10\n"
     ]
    }
   ],
   "source": [
    "for i in range(1,11): #Example -- for loop\n",
    "    print(i)"
   ]
  },
  {
   "cell_type": "code",
   "execution_count": 21,
   "id": "e0199d7c-c62b-4a84-9c09-7289cee18c17",
   "metadata": {},
   "outputs": [
    {
     "name": "stdout",
     "output_type": "stream",
     "text": [
      "1\n",
      "2\n",
      "3\n",
      "4\n",
      "5\n",
      "6\n",
      "7\n",
      "8\n",
      "9\n",
      "10\n"
     ]
    }
   ],
   "source": [
    "i=1     #Example -- While loop\n",
    "while i<=10:\n",
    "    print(i)\n",
    "    i+=1"
   ]
  },
  {
   "cell_type": "markdown",
   "id": "d0c51728-3d35-49b4-b9a4-5acd420b5684",
   "metadata": {},
   "source": [
    "13. If you had a function named bacon() inside a module named spam, how would you call it after importing spam?\n",
    "Ans- import spam\n",
    "spam.bacon()"
   ]
  },
  {
   "cell_type": "markdown",
   "id": "7f85ba70-3507-4791-b9d3-70e118fbb38a",
   "metadata": {},
   "source": []
  },
  {
   "cell_type": "code",
   "execution_count": null,
   "id": "e72e8183-9876-4e8b-8784-daa76fc87a4d",
   "metadata": {},
   "outputs": [],
   "source": []
  }
 ],
 "metadata": {
  "kernelspec": {
   "display_name": "Python 3 (ipykernel)",
   "language": "python",
   "name": "python3"
  },
  "language_info": {
   "codemirror_mode": {
    "name": "ipython",
    "version": 3
   },
   "file_extension": ".py",
   "mimetype": "text/x-python",
   "name": "python",
   "nbconvert_exporter": "python",
   "pygments_lexer": "ipython3",
   "version": "3.10.6"
  }
 },
 "nbformat": 4,
 "nbformat_minor": 5
}
