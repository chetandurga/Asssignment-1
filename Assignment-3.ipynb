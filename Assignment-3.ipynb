{
 "cells": [
  {
   "cell_type": "markdown",
   "id": "d8723b8b-aab4-437c-bed0-1b42e8d4f5ac",
   "metadata": {},
   "source": [
    "1. Why are functions advantageous to have in your programs?\n",
    "\n",
    "Ans- A function is a block of code which only runs when it is called.\n",
    "In Python a function is defined as \"def\" keyword\n",
    "\n",
    "\n",
    "There are many advantages of using functions in our programs:-\n",
    "\n",
    "(i) It reduces duplication of code.\n",
    "(ii) It helps us in breaking down complex problems into simple and smaller problems\n",
    "(iii) we can reuse our code\n",
    "(iv) Information hiding"
   ]
  },
  {
   "cell_type": "markdown",
   "id": "3b32df07-486c-4ed3-b26f-5f7063c7c51f",
   "metadata": {},
   "source": [
    "2. When does the code in a function run: when it's specified or when it's called?\n",
    "\n",
    "Ans - The code in a function executed when the function is called not when the function is defined"
   ]
  },
  {
   "cell_type": "markdown",
   "id": "4787100e-0863-49c4-bf3b-50d7c1682372",
   "metadata": {},
   "source": [
    "3. What statement creates a function?\n",
    "\n",
    "Ans- The \"def\" statement defines a function.\n"
   ]
  },
  {
   "cell_type": "code",
   "execution_count": 1,
   "id": "19ff34f3-9102-4d9e-8e7a-d49d661aab94",
   "metadata": {},
   "outputs": [],
   "source": [
    "# def \n",
    "\n",
    "def myfirstfunction():\n",
    "    print(\"I started creating the function\")"
   ]
  },
  {
   "cell_type": "code",
   "execution_count": 2,
   "id": "525941fe-969f-49e9-a9e2-18c5bb606fe7",
   "metadata": {},
   "outputs": [
    {
     "name": "stdout",
     "output_type": "stream",
     "text": [
      "I started creating the function\n"
     ]
    }
   ],
   "source": [
    "myfirstfunction()"
   ]
  },
  {
   "cell_type": "markdown",
   "id": "21d9b072-c40b-47e0-a744-a4633db3c9d4",
   "metadata": {},
   "source": [
    "4. What is the difference between a function and a function call?\n",
    "Ans- A function consists of the def statement and code in its def clause.\n",
    "     \n",
    "     A function call is that moves the program execution into the function and function call evaluate to the function return value"
   ]
  },
  {
   "cell_type": "markdown",
   "id": "b9fa0dc2-fc9f-4757-9f51-f90cef1ef6fd",
   "metadata": {},
   "source": [
    "5. How many global scopes are there in a Python program? How many local scopes?\n",
    "Ans- There are only one global scope in python program. A variable defined in global scope can be accessed through out the\n",
    "python program.\n",
    "\n",
    "There can be n number of local scopes in a python program."
   ]
  },
  {
   "cell_type": "markdown",
   "id": "30d2497c-65db-44ad-9bd3-4c919cdf5f16",
   "metadata": {},
   "source": [
    "6. What happens to variables in a local scope when the function call returns?\n",
    "When a function return, the local scope is destroyed, and the variable in it are forgotten "
   ]
  },
  {
   "cell_type": "markdown",
   "id": "ab8ab4b4-a413-4add-bc48-5790d9dc8e8e",
   "metadata": {},
   "source": [
    "7. What is the concept of a return value? Is it possible to have a return value in an expression?\n",
    "\n",
    "Ans7:-\n",
    "\n",
    "We can return any value(list,tuple,dictionary,int,float,bool,complex) from the function back to our main program.\\\n",
    "we can return an expression from our function as well.\n",
    "\n",
    "Example:-\n",
    "\n",
    "def add(a,b):\n",
    "    return a+b\n",
    "\n",
    "add(10,20)"
   ]
  },
  {
   "cell_type": "code",
   "execution_count": 3,
   "id": "aa3415ae-92ab-4a20-b0bf-28405efad6da",
   "metadata": {},
   "outputs": [
    {
     "data": {
      "text/plain": [
       "30"
      ]
     },
     "execution_count": 3,
     "metadata": {},
     "output_type": "execute_result"
    }
   ],
   "source": [
    "def add(a,b):\n",
    "    return a+b\n",
    "\n",
    "add(10,20)"
   ]
  },
  {
   "cell_type": "markdown",
   "id": "e6a16f8c-c88a-4cba-8dc8-1710896cc7a2",
   "metadata": {},
   "source": [
    "8. If a function does not have a return statement, what is the return value of a call to that function?\n",
    "\n",
    "Ans:-\n",
    "\n",
    "If a function does not have a return statement then it will return the nonetype object back from the function by default."
   ]
  },
  {
   "cell_type": "markdown",
   "id": "e5d4c623-b321-4ed7-ab45-6798d43316b1",
   "metadata": {},
   "source": [
    "9. How do you make a function variable refer to the global variable?\n",
    "\n",
    "Ans9:-\n",
    "\n",
    "If we want to refer a global variable in a function, we can use global keyword with the globally declared variable \\\n",
    "inside a function.\n",
    "\n",
    "Example:-\n",
    "\n"
   ]
  },
  {
   "cell_type": "code",
   "execution_count": 8,
   "id": "927b4646-9c9b-44bc-b2d1-284faf7762cf",
   "metadata": {},
   "outputs": [
    {
     "data": {
      "text/plain": [
       "50"
      ]
     },
     "execution_count": 8,
     "metadata": {},
     "output_type": "execute_result"
    }
   ],
   "source": [
    "a = 10\n",
    "def Multiply(b):\n",
    "    global a\n",
    "    return a*b\n",
    "Multiply(5)"
   ]
  },
  {
   "cell_type": "markdown",
   "id": "599fe634-8db8-4c0e-9341-238cbae372e4",
   "metadata": {},
   "source": [
    "10. What is the data type of None?\n",
    "\n",
    "Ans10:-\n",
    "\n",
    "None is the data type of its own NoneType object. It is used to defined null value or no value at all.\n",
    "\n",
    "Note:- It is not same as 0 or False or empty string."
   ]
  },
  {
   "cell_type": "markdown",
   "id": "6e363f77-62a1-43ea-be8b-1aee98b210bb",
   "metadata": {},
   "source": [
    "12. If you had a bacon() feature in a spam module, what would you call it after importing spam?\n",
    "\n",
    "Ans12:-\n",
    "\n",
    "import spam\n",
    "spam.bacon()"
   ]
  },
  {
   "cell_type": "markdown",
   "id": "a19e223c-2850-4d2d-8d9c-30578bbe0ae1",
   "metadata": {},
   "source": [
    "13. What can you do to save a programme from crashing if it encounters an error?\n",
    "\n",
    "Ans13:-\n",
    "\n",
    "we can use exception handling through try and except block to save our program from crashing if it encounters an error."
   ]
  },
  {
   "cell_type": "markdown",
   "id": "bc7825f9-b225-4bac-bea6-1c958d7b5192",
   "metadata": {},
   "source": [
    "14. What is the purpose of the try clause? What is the purpose of the except clause?\n",
    "\n",
    "Ans14:-\n",
    "\n",
    "try block lets you test a block of code for error. If program encounters an error then control is transferred \\\n",
    "to except block.\n",
    "\n",
    "except block lets you handle the error."
   ]
  },
  {
   "cell_type": "code",
   "execution_count": null,
   "id": "38accb05-9885-4a19-821d-94fb4fd14d09",
   "metadata": {},
   "outputs": [],
   "source": []
  }
 ],
 "metadata": {
  "kernelspec": {
   "display_name": "Python 3 (ipykernel)",
   "language": "python",
   "name": "python3"
  },
  "language_info": {
   "codemirror_mode": {
    "name": "ipython",
    "version": 3
   },
   "file_extension": ".py",
   "mimetype": "text/x-python",
   "name": "python",
   "nbconvert_exporter": "python",
   "pygments_lexer": "ipython3",
   "version": "3.10.6"
  }
 },
 "nbformat": 4,
 "nbformat_minor": 5
}
