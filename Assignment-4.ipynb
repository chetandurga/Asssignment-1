{
 "cells": [
  {
   "cell_type": "markdown",
   "id": "c636f90c-a584-46d9-af3b-9959fcc6d669",
   "metadata": {},
   "source": [
    "1. What exactly is []?\n",
    "\n",
    "Ans1:-\n",
    "\n",
    "[] represents the empty list which doesnot contain any element in it.\n",
    "\n",
    "Note:- We can insert any type of data inside the list."
   ]
  },
  {
   "cell_type": "markdown",
   "id": "45db677a-9ec8-471d-9d6f-e5bdd2289fe9",
   "metadata": {},
   "source": [
    "2. In a list of values stored in a variable called spam, how would you assign the value 'hello' as the third value?\\\n",
    "(Assume [2, 4, 6, 8, 10] are in spam.)"
   ]
  },
  {
   "cell_type": "code",
   "execution_count": 1,
   "id": "ef223526-4a23-4bdb-8049-437dbc307001",
   "metadata": {},
   "outputs": [
    {
     "name": "stdout",
     "output_type": "stream",
     "text": [
      "[2, 4, 'hello', 8, 10]\n"
     ]
    }
   ],
   "source": [
    "spam = [2,4,6,8,10]\n",
    "spam[2] = \"hello\" #assigning third value as \"hello\"\n",
    "print(spam)"
   ]
  },
  {
   "cell_type": "code",
   "execution_count": null,
   "id": "5dd15b88-1b2f-4a9b-9149-d0008020de63",
   "metadata": {},
   "outputs": [],
   "source": [
    "Let's pretend the spam includes the list ['a', 'b', 'c', 'd'] for the next three queries Q3, Q4 and Q5.\n",
    "\n",
    "3. What is the value of spam[int(int('3' * 2) / 11)]?\n",
    "\n",
    "Ans3:-\n",
    "\n",
    "spam = ['a', 'b', 'c', 'd']\n",
    "\n",
    "spam[int(int('3' * 2) / 11)]\n",
    "spam[int(int('33')/11)]\n",
    "spam[int(33/11)]\n",
    "spam[3]\n",
    "\n",
    "Hence, the value at third index spam[3] is 'd'"
   ]
  },
  {
   "cell_type": "code",
   "execution_count": 3,
   "id": "b20abf4f-cf21-4215-a544-b1d11b039699",
   "metadata": {},
   "outputs": [
    {
     "data": {
      "text/plain": [
       "'d'"
      ]
     },
     "execution_count": 3,
     "metadata": {},
     "output_type": "execute_result"
    }
   ],
   "source": [
    "spam = ['a', 'b', 'c', 'd']\n",
    "spam[int(int('3' * 2) / 11)]"
   ]
  },
  {
   "cell_type": "markdown",
   "id": "370df75d-e591-424a-903e-f6de303f071e",
   "metadata": {},
   "source": [
    "4. What is the value of spam[-1]?\n",
    "\n",
    "Ans4:-\n",
    "\n",
    "spam[-1]\n",
    "\n",
    "it will return the last element of the list, i.e the output will be 'd'"
   ]
  },
  {
   "cell_type": "code",
   "execution_count": 4,
   "id": "25a835fd-06be-45d8-b756-9724a3e2cc6e",
   "metadata": {},
   "outputs": [
    {
     "data": {
      "text/plain": [
       "'d'"
      ]
     },
     "execution_count": 4,
     "metadata": {},
     "output_type": "execute_result"
    }
   ],
   "source": [
    "spam[-1]"
   ]
  },
  {
   "cell_type": "code",
   "execution_count": null,
   "id": "e2cef8e7-1bc5-4d09-97d5-29db58e42dbf",
   "metadata": {},
   "outputs": [],
   "source": [
    "5. What is the value of spam[:2]?\n",
    "\n",
    "Ans5:-\n",
    "\n",
    "spam[:2] \n",
    "\n",
    "The output of the above query will be ['a','b']"
   ]
  },
  {
   "cell_type": "code",
   "execution_count": 5,
   "id": "5e570a52-a8f5-47d3-a44d-480d9e9d3b05",
   "metadata": {},
   "outputs": [
    {
     "data": {
      "text/plain": [
       "['a', 'b']"
      ]
     },
     "execution_count": 5,
     "metadata": {},
     "output_type": "execute_result"
    }
   ],
   "source": [
    "spam[:2] "
   ]
  },
  {
   "cell_type": "code",
   "execution_count": null,
   "id": "ee27d7c4-0fd8-41c3-ab9c-862b2a7d4b41",
   "metadata": {},
   "outputs": [],
   "source": [
    "Let's pretend bacon has the list [3.14, 'cat,' 11, 'cat,' True] for the next three questions.\n",
    "\n",
    "6. What is the value of bacon.index('cat')?\n",
    "\n",
    "Ans6:-\n",
    "\n",
    "bacon.index('cat') will give the index of first occurence of 'cat' value in the list.\n",
    "\n",
    "Hence, the output will be 1."
   ]
  },
  {
   "cell_type": "code",
   "execution_count": 1,
   "id": "16ff0a06-a9c2-44de-86f6-ea0f16389628",
   "metadata": {},
   "outputs": [
    {
     "data": {
      "text/plain": [
       "1"
      ]
     },
     "execution_count": 1,
     "metadata": {},
     "output_type": "execute_result"
    }
   ],
   "source": [
    "bacon = [3.14, 'cat', 11, 'cat', True]\n",
    "bacon.index('cat')"
   ]
  },
  {
   "cell_type": "code",
   "execution_count": null,
   "id": "3df647d4-f413-4c2d-b87c-7d2b05e8d44a",
   "metadata": {},
   "outputs": [],
   "source": [
    "7. How does bacon.append(99) change the look of the list value in bacon?\n",
    "\n",
    "Ans7:-\n",
    "\n",
    "bacon.append(99) will append the value 99 at the end of the list.\n",
    "\n",
    "Hence, the final list will be [3.14, 'cat', 11, 'cat', True, 99]"
   ]
  },
  {
   "cell_type": "code",
   "execution_count": 3,
   "id": "97d03ad0-2490-4cd0-a37d-4814cd22c805",
   "metadata": {},
   "outputs": [],
   "source": [
    "bacon.append(99)"
   ]
  },
  {
   "cell_type": "code",
   "execution_count": 4,
   "id": "06694d0f-f8fd-447b-a1cf-66eaf66833fa",
   "metadata": {},
   "outputs": [
    {
     "data": {
      "text/plain": [
       "[3.14, 'cat', 11, 'cat', True, 99]"
      ]
     },
     "execution_count": 4,
     "metadata": {},
     "output_type": "execute_result"
    }
   ],
   "source": [
    "bacon"
   ]
  },
  {
   "cell_type": "code",
   "execution_count": null,
   "id": "cf46ec19-646b-448f-9c52-f65047193c6c",
   "metadata": {},
   "outputs": [],
   "source": [
    "8. How does bacon.remove('cat') change the look of the list in bacon?\n",
    "\n",
    "Ans8:-\n",
    "\n",
    "bacon.remove('cat') will remove the first occurence of \"cat\" value from the list.\n",
    "\n",
    "Hence, the resultant list will be [3.14, 11, 'cat', True, 99]"
   ]
  },
  {
   "cell_type": "code",
   "execution_count": 7,
   "id": "3a9b35fe-b1d5-4dcd-88b9-5243704cdbdb",
   "metadata": {},
   "outputs": [],
   "source": [
    "bacon.remove('cat')"
   ]
  },
  {
   "cell_type": "code",
   "execution_count": 8,
   "id": "c5de2744-2659-41cd-9c7f-c094763d0803",
   "metadata": {},
   "outputs": [
    {
     "data": {
      "text/plain": [
       "[3.14, 11, True, 99]"
      ]
     },
     "execution_count": 8,
     "metadata": {},
     "output_type": "execute_result"
    }
   ],
   "source": [
    "bacon"
   ]
  },
  {
   "cell_type": "code",
   "execution_count": null,
   "id": "6825179d-3208-4b94-a5d3-8247000c4cde",
   "metadata": {},
   "outputs": [],
   "source": [
    "10. What is difference between the list methods append() and insert()?\n",
    "\n",
    "Ans10:-\n",
    "\n",
    "append() method will append new value at the end of the list. It takes only one argument which is value.\n",
    "\n",
    "Example:-\n",
    "\n",
    "l = [1,2,3,4,5]\n",
    "l.append(100)\n",
    "print(l)  #output will be [1,2,3,4,5,100]\n",
    "\n",
    "\n",
    "insert() method will add new data into the list at any specific index. It takes two arguments i.e index and value.\n",
    "\n",
    "Example:-\n",
    "\n",
    "l = [1,2,3,4,5]\n",
    "l.insert(3,100)\n",
    "l                    #output will be [1, 2, 3, 100, 4, 5]"
   ]
  },
  {
   "cell_type": "code",
   "execution_count": null,
   "id": "b77b6a00-1dd4-4852-bac5-2949d5c12f4e",
   "metadata": {},
   "outputs": [],
   "source": [
    "11. What are the two methods for removing items from a list?\n",
    "\n",
    "Ans11:-\n",
    "\n",
    "\n",
    "remove() method will remove the first occurence of the given element from the list.\n",
    "\n",
    "Example:- \n",
    "\n",
    "l = [1, 2, 3, 100, 4, 5, 100]\n",
    "l.remove(100)\n",
    "print(l)      #output will be [1,2,3,4,5,100]\n",
    "\n",
    "\n",
    "pop() method will remove an element from the list based on the given index.\n",
    "\n",
    "l = [1, 2, 3, 4, 5, 100]\n",
    "l.pop(-1)\n",
    "print(l)   #output will be [1,2,3,4,5]\n",
    "\n",
    "\n",
    "del statement can also be used to delete any specific element of the list.\n",
    "\n",
    "Example:-\n",
    "\n",
    "l = [1,2,3,4,5]\n",
    "del l[4]        #it will delete item at index 4\n",
    "print(l)        #output will be [1,2,3,4]"
   ]
  },
  {
   "cell_type": "code",
   "execution_count": null,
   "id": "dca0b764-1d16-4237-b9dd-76ee878fc9cf",
   "metadata": {},
   "outputs": [],
   "source": [
    "12. Describe how list values and string values are identical.\n",
    "\n",
    "Ans12:-\n",
    "\n",
    "\n",
    "List values and string values are identical because both are stored in a ordered manner except that stored values \\\n",
    "in string are characters and stored values in list can be of any type.\n",
    "\n",
    "both have indexes and slices, be used in for loops, be concatenated or replicated, and be used with \\\n",
    "the in and not in operators."
   ]
  },
  {
   "cell_type": "code",
   "execution_count": null,
   "id": "de498ec0-b5f6-4c10-8fe1-6eef04f428c7",
   "metadata": {},
   "outputs": [],
   "source": [
    "13. What's the difference between tuples and lists?\n",
    "\n",
    "Ans13:-\n",
    "\n",
    "The main difference between tuples and lists is tuples are immutable whereas lists are mutable, i.e we can overwrite \\\n",
    "any value with other value in lists whereas In tuple we can not perform this operation.\n",
    "\n",
    "List items are enclosed within [] brackets whereas tuples items are enclosed within () brackets."
   ]
  },
  {
   "cell_type": "code",
   "execution_count": null,
   "id": "0a975576-a6f3-41b4-a807-ba74a3a49c3d",
   "metadata": {},
   "outputs": [],
   "source": [
    "14. How do you type a tuple value that only contains the integer 42?\n",
    "\n",
    "Ans14:-\n",
    "\n",
    "(42,)"
   ]
  },
  {
   "cell_type": "code",
   "execution_count": null,
   "id": "6c54f05c-8b52-4c60-9a80-4909d456c7c8",
   "metadata": {},
   "outputs": [],
   "source": [
    "15. How do you get a list value's tuple form? How do you get a tuple value's list form?\n",
    "\n",
    "Ans15:-\n",
    "\n",
    "we can use tuple() function to get list values in tuple form and list() function to get tuple values in list form.\n",
    "\n",
    "Example:-\n",
    "\n",
    "t = (1,2,3)\n",
    "list(t)\n",
    "\n",
    "Output\n",
    "[1,2,3]\n",
    "\n",
    "l = [1,2,3]\n",
    "tuple(l)\n",
    "\n",
    "Output\n",
    "(1,2,3)"
   ]
  },
  {
   "cell_type": "code",
   "execution_count": null,
   "id": "db92c245-1ca5-49f7-b83b-86f584b8fdff",
   "metadata": {},
   "outputs": [],
   "source": [
    "16. Variables that \"contain\" list values are not necessarily lists themselves. Instead, what do they contain?\n",
    "\n",
    "Ans16:-\n",
    "\n",
    "They contain references to all the list values."
   ]
  },
  {
   "cell_type": "code",
   "execution_count": null,
   "id": "1a3ba8a5-7d48-4e1a-9d37-6d16eb3aece0",
   "metadata": {},
   "outputs": [],
   "source": [
    "17. How do you distinguish between copy.copy() and copy.deepcopy()?\n",
    "\n",
    "Ans17:-\n",
    "\n",
    "A shallow copy or copy() method doesn't create a copy of nested objects, instead it just copies the reference of \\\n",
    "nested objects. \n",
    "\n",
    "Example:-\n",
    "\n",
    "import copy\n",
    "l1 = [[0,1,100],2,3,4,5]\n",
    "l2 = copy.copy(l1)\n",
    "\n",
    "l2[0][0] = 1000\n",
    "\n",
    "print(l1)     #[[1000, 1, 100], 2, 3, 4, 5]\n",
    "\n",
    "\n",
    "A deep copy creates a new object and recursively adds the copies of nested objects present in the original elements.\n",
    "\n",
    "Example:-\n",
    "\n",
    "import copy\n",
    "l1 = [[0,1,100],2,3,4,5]\n",
    "l2 = copy.deepcopy(l1)\n",
    "\n",
    "l2[0][0] = 1000\n",
    "\n",
    "print(l1)        #[[0, 1, 100], 2, 3, 4, 5]"
   ]
  },
  {
   "cell_type": "code",
   "execution_count": null,
   "id": "7810ab74-45dd-428a-ab96-c7839d9b3296",
   "metadata": {},
   "outputs": [],
   "source": []
  },
  {
   "cell_type": "code",
   "execution_count": null,
   "id": "498db1e3-eb90-4c43-a56a-c5c1d1496942",
   "metadata": {},
   "outputs": [],
   "source": []
  }
 ],
 "metadata": {
  "kernelspec": {
   "display_name": "Python 3 (ipykernel)",
   "language": "python",
   "name": "python3"
  },
  "language_info": {
   "codemirror_mode": {
    "name": "ipython",
    "version": 3
   },
   "file_extension": ".py",
   "mimetype": "text/x-python",
   "name": "python",
   "nbconvert_exporter": "python",
   "pygments_lexer": "ipython3",
   "version": "3.10.6"
  }
 },
 "nbformat": 4,
 "nbformat_minor": 5
}
