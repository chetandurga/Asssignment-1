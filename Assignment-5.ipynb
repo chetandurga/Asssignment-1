{
 "cells": [
  {
   "cell_type": "code",
   "execution_count": null,
   "id": "0ea967b1-0f32-4661-8e70-47e6a7dd7fe2",
   "metadata": {},
   "outputs": [],
   "source": [
    "1. What does an empty dictionary's code look like?\n",
    "\n",
    "Ans1:-\n",
    "\n",
    "{} Two curly brackets"
   ]
  },
  {
   "cell_type": "code",
   "execution_count": null,
   "id": "92584e3a-7be9-4ab9-8d3c-391017d82f10",
   "metadata": {},
   "outputs": [],
   "source": [
    "2. What is the value of a dictionary value with the key 'foo' and the value 42?\n",
    "\n",
    "Ans2:-\n",
    "\n",
    "d = {'foo':42}\n",
    "print(d)\n",
    "\n",
    "Output will be:-\n",
    "\n",
    "{'foo':42}"
   ]
  },
  {
   "cell_type": "code",
   "execution_count": 1,
   "id": "a61026e8-eaed-4945-be96-36b680096ed3",
   "metadata": {},
   "outputs": [
    {
     "name": "stdout",
     "output_type": "stream",
     "text": [
      "{'foo': 42}\n"
     ]
    }
   ],
   "source": [
    "d = {'foo':42}\n",
    "print(d)"
   ]
  },
  {
   "cell_type": "code",
   "execution_count": null,
   "id": "d39703b5-b636-48d9-b63b-bfafc6751a9e",
   "metadata": {},
   "outputs": [],
   "source": [
    "3. What is the most significant distinction between a dictionary and a list?\n",
    "\n",
    "Ans3:-\n",
    "\n",
    "Dictionary is the unordered collection of items and it stores items in key-value pair. we can access value of an item\\\n",
    "by its key.\n",
    "whereas\n",
    "List is the ordered collection of different types of elements. we access elements of list by its index value."
   ]
  },
  {
   "cell_type": "code",
   "execution_count": null,
   "id": "e039c887-a181-4a84-bbb2-1e9930b68d19",
   "metadata": {},
   "outputs": [],
   "source": [
    "4. What happens if you try to access spam['foo'] if spam is {'bar': 100}?\n",
    "\n",
    "Ans4:-\n",
    "\n",
    "spam = {'bar':100}\n",
    "spam['foo']        #it will throw an error\n",
    "\n",
    "Hence, it will display the keyError"
   ]
  },
  {
   "cell_type": "code",
   "execution_count": null,
   "id": "45d1d62a-fd73-4a5f-b730-3920307a50ee",
   "metadata": {},
   "outputs": [],
   "source": [
    "6. If a dictionary is stored in spam, what is the difference between the expressions 'cat' in spam and \\\n",
    "   'cat' in spam.values()?\n",
    "\n",
    "Ans- 'cat' in spam will check 'cat' as a key in dictionary named spam. If found it will return True otherwise return False\n",
    "\n",
    "'cat' in spam.values() will check 'cat' as a value in dictionary named spam. If found it will return True otherwise\\\n",
    "it will return False."
   ]
  },
  {
   "cell_type": "code",
   "execution_count": null,
   "id": "9a02df07-06ae-4fa1-9248-989ba43886a6",
   "metadata": {},
   "outputs": [],
   "source": [
    "7. What is a shortcut for the following code?\n",
    "   if 'color' not in spam:\n",
    "   spam['color'] = 'black'\n",
    "\n",
    "Ans7:-\n",
    "\n",
    "\n",
    "spam.setdefault('color','black')\n",
    "\n",
    "it will create 'color' as a key and 'black' value of key 'color' if 'color' is not present as a key.\n",
    "if it is present as a key it will not insert item."
   ]
  },
  {
   "cell_type": "code",
   "execution_count": null,
   "id": "e196f404-2b92-4f02-a286-f4e1fad8238a",
   "metadata": {},
   "outputs": [],
   "source": [
    "8. How do you \"pretty print\" dictionary values using which module and function?\n",
    "\n",
    "Ans8:-\n",
    "\n",
    "import pprint\n",
    "pprint.pprint(d)\n",
    "\n",
    "pprint function present in the pprint module can be used to pretty print the dictionary values."
   ]
  },
  {
   "cell_type": "code",
   "execution_count": null,
   "id": "ee627eab-19db-4d2b-8197-58ceb64efb62",
   "metadata": {},
   "outputs": [],
   "source": []
  },
  {
   "cell_type": "code",
   "execution_count": null,
   "id": "baf030b9-0b62-4565-96f0-8bd5fc9bd98b",
   "metadata": {},
   "outputs": [],
   "source": []
  }
 ],
 "metadata": {
  "kernelspec": {
   "display_name": "Python 3 (ipykernel)",
   "language": "python",
   "name": "python3"
  },
  "language_info": {
   "codemirror_mode": {
    "name": "ipython",
    "version": 3
   },
   "file_extension": ".py",
   "mimetype": "text/x-python",
   "name": "python",
   "nbconvert_exporter": "python",
   "pygments_lexer": "ipython3",
   "version": "3.10.6"
  }
 },
 "nbformat": 4,
 "nbformat_minor": 5
}
