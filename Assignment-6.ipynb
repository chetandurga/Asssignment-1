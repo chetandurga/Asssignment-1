{
  "nbformat": 4,
  "nbformat_minor": 0,
  "metadata": {
    "colab": {
      "provenance": [],
      "toc_visible": true
    },
    "kernelspec": {
      "name": "python3",
      "display_name": "Python 3"
    },
    "language_info": {
      "name": "python"
    }
  },
  "cells": [
    {
      "cell_type": "markdown",
      "source": [
        "1. What are keywords in python? Using the keyword library, print all the python keywords.\n",
        "\n",
        "Ans. Keywords in python are reserved words that can not be used as a variable name, function name, or any other identifier."
      ],
      "metadata": {
        "id": "AW4heurWkYoo"
      }
    },
    {
      "cell_type": "code",
      "source": [
        "#Using the keyword library, print all the python keywords.\n",
        "\n",
        "import keyword\n",
        "print(\"the list of keyword is : \")\n",
        "print(keyword.kwlist)"
      ],
      "metadata": {
        "colab": {
          "base_uri": "https://localhost:8080/"
        },
        "id": "5YtIHlfJoJwo",
        "outputId": "494ed33e-8871-47a6-b431-9b6d0c712186"
      },
      "execution_count": null,
      "outputs": [
        {
          "output_type": "stream",
          "name": "stdout",
          "text": [
            "the list of keyword is : \n",
            "['False', 'None', 'True', 'and', 'as', 'assert', 'async', 'await', 'break', 'class', 'continue', 'def', 'del', 'elif', 'else', 'except', 'finally', 'for', 'from', 'global', 'if', 'import', 'in', 'is', 'lambda', 'nonlocal', 'not', 'or', 'pass', 'raise', 'return', 'try', 'while', 'with', 'yield']\n"
          ]
        }
      ]
    },
    {
      "cell_type": "markdown",
      "source": [
        "Q.2. What are the rules to create variables in python?\n",
        "\n",
        "Ans. Rules to create python variable.\n",
        "\n",
        "A variable can have a short name (like X and Y) or a more descript, names(age, car name, total volume)\n",
        "\n",
        "1. A variable name must start with a letter or the underscore charecter.\n",
        "2. A variable name cannot start with a number.\n",
        "3. A variable name can only start contain alpha numeric charecter and underscore.\n",
        "4. A variable names are case sensitive (age, Age, AGE are three different variable)"
      ],
      "metadata": {
        "id": "cQL2ZBQXorrR"
      }
    },
    {
      "cell_type": "markdown",
      "source": [
        "Q.3. What are the standards and conventions followed for the nomenclature of variables in python to improve code readability and maintainability?\n",
        "\n",
        "Ans. **Python Naming Conventions:**\n",
        "**General**\n",
        "\n",
        "Avoid names that are too general or wordy. Maintain a good balance between the two.\n",
        "Bad: user_list, dict_to_store_defns_of_a_word, swapNums, moveInts.\n",
        "Good: user_info, word_definitions, swap_numbers, move_integers.\n",
        "Avoid naming things like “X”, “Y” or “Z”. Capitalize all letters of an abbreviation when using camelcase.\n",
        "Avoid names starting with digits. Combination of lowercase letters (a to z) or uppercase letters (A to Z) or digits (0 to 9) or an underscore (_) can be used.\n",
        "Name a Package in python\n",
        "\n",
        "It is important to use only lowercase while naming a package in python.\n",
        "Use an underscore to join multiple words.\n",
        "However, it is preferable to keep a short name. (Stick into one-word name)\n",
        "Module name\n",
        "\n",
        "Use lowercase for module names.\n",
        "Use an underscore to join multiple words to generate a meaningful module name.\n",
        "Stick to 1-word module names.\n",
        "Class name in Python\n",
        "\n",
        "Class name in python should follow naming scheme called CapWords convention.\n",
        "Python has its built-in classes, however are typically lowercase.\n",
        "Exception classes should always end in “Error”.\n",
        "Global Variables\n",
        "\n",
        "Global variables should be in lowercase\n",
        "Use an underscore to join words in a global variable.\n",
        "Good Instance variable name\n",
        "\n",
        "Instance variable names should be in lowercase.\n",
        "Use an underscore to join multiple words in an instance variable.\n",
        "Non-public instance variable name should begin with a single underscore.\n",
        "Use two consecutive underscores at the beginning of an instance variable.\n",
        "Method name in Python\n",
        "\n",
        "Use only lowercase in method names.\n",
        "An underscore should separate words in a method name.\n",
        "Non-public method name should begin with a single underscore.\n",
        "Use two consecutive underscores at the beginning of a method name, if it needs to be mangled.\n",
        "**Method Arguments**\n",
        "\n",
        "Every instance method should have ‘self’ as its first argument.\n",
        "Class methods should have their first argument named ‘cls’.\n",
        "Functions\n",
        "\n",
        "Function names should be in lower case.\n",
        "Use an underscore to join words in function name.\n",
        "Constants in Python\n",
        "\n",
        "Only use upper case for constant names.\n",
        "Use an underscore as a separator to join multiple words to form a long constant name."
      ],
      "metadata": {
        "id": "9iDXjytkqo0p"
      }
    },
    {
      "cell_type": "markdown",
      "source": [
        "Q.4. What will happen if a keyword is used as a variable name?\n",
        "\n",
        "Ans. We will get an error if we use the keyword as a variable."
      ],
      "metadata": {
        "id": "VhloPwUpqo3C"
      }
    },
    {
      "cell_type": "code",
      "source": [
        "# Example for Q4\n",
        "class = 10"
      ],
      "metadata": {
        "colab": {
          "base_uri": "https://localhost:8080/",
          "height": 130
        },
        "id": "5-ta6p5nrvFy",
        "outputId": "b53acd11-369e-4758-d074-51bd823d2c64"
      },
      "execution_count": null,
      "outputs": [
        {
          "output_type": "error",
          "ename": "SyntaxError",
          "evalue": "ignored",
          "traceback": [
            "\u001b[0;36m  File \u001b[0;32m\"<ipython-input-2-0fe4cedaeb70>\"\u001b[0;36m, line \u001b[0;32m1\u001b[0m\n\u001b[0;31m    class = 10\u001b[0m\n\u001b[0m          ^\u001b[0m\n\u001b[0;31mSyntaxError\u001b[0m\u001b[0;31m:\u001b[0m invalid syntax\n"
          ]
        }
      ]
    },
    {
      "cell_type": "markdown",
      "source": [
        "Q.5. For what purpose def keyword is used?\n",
        "\n",
        "Ans. The def keyword is used to create, (or define) a function."
      ],
      "metadata": {
        "id": "yHTQahgNsjBC"
      }
    },
    {
      "cell_type": "code",
      "source": [
        "def my_function():\n",
        "  print(\"Hello from a function\")\n",
        "\n",
        "my_function()"
      ],
      "metadata": {
        "colab": {
          "base_uri": "https://localhost:8080/"
        },
        "id": "tJpcRluMszAC",
        "outputId": "264eac4b-41cd-40e1-e395-73af49764c54"
      },
      "execution_count": null,
      "outputs": [
        {
          "output_type": "stream",
          "name": "stdout",
          "text": [
            "Hello from a function\n"
          ]
        }
      ]
    },
    {
      "cell_type": "markdown",
      "source": [
        "Q.6. What is the operation of this special character ‘\\’?\n",
        "Ans. In python the backslash \"\\\" is a special charecter, also called the \"escape\" chrecter. it is used in representing certain whitespace charecters: \"\\t\" is a tab, \"\\n\" is a newline, and \"\\r\" is a carring return."
      ],
      "metadata": {
        "id": "O9HtfL58sjDi"
      }
    },
    {
      "cell_type": "markdown",
      "source": [
        "Q.7. Give an example of the following conditions:\n",
        "(i) Homogeneous list\n",
        "(ii) Heterogeneous set\n",
        "(iii) Homogeneous tuple\n",
        "\n",
        "(i) Homogeneous list\n",
        "Ans. sample_list = [‘chetan’, ‘1’, 2]\n",
        "\n",
        "(ii) Heterogeneous set\n",
        "Ans. myset = {\"chetan\", \"for\", 10, 52.7, True}\n",
        "\n",
        "(iii) Homogeneous tuple\n",
        "Ans. sample_tuple = (‘chetan’, ‘Python’, ‘ML’, 23432)"
      ],
      "metadata": {
        "id": "2lnVEMEvpNTE"
      }
    },
    {
      "cell_type": "markdown",
      "source": [
        "Q.8. Explain the mutable and immutable data types with proper explanation & examples.\n",
        "\n",
        "Ans. Mutable objects are those that allow you to change their value or data in place without affecting the object’s identity. In contrast, immutable objects don’t allow this kind of operation. You’ll just have the option of creating new objects of the same type with different values.\n",
        "\n",
        "Python mutable data types:\n",
        "\n",
        "Lists\n",
        "Dictionaries\n",
        "Sets\n",
        "User-Defined Classes (It depends on the user to define the characteristics of the classes)\n",
        "\n",
        "**Lists**\n",
        "Python program to check if the lists pointing to the same memory location will have the same reference ids after modifying one of the lists  \n",
        "  \n",
        "Creating a Python list object  \n",
        "num = [2, 4, 6, 8]  \n",
        "  \n",
        "toring the list in another variable  \n",
        "l = num  \n",
        "  \n",
        "Checking if the two variables point to the same memory location  \n",
        "print(\"Both list variables have the same ids: \", id(num) == id(l))  \n",
        "  \n",
        "Modifying the num list  \n",
        "num.append(10)  \n",
        "\n",
        "**Dictionaries**\n",
        "\n",
        "Python program to show that a dictionary is a mutable data type  \n",
        "  \n",
        "Creating a dictionary  \n",
        "dict_ = {1: \"a\", 2: \"b\", 3: \"c\"}  \n",
        "print(\"The original dictionary: \", dict_)  \n",
        "  \n",
        "Changing the value of one of the keys of the dictionary  \n",
        "dict_[2]= 'changed'  \n",
        "print(\"The modified dictionary: \", dict_)  \n",
        "\n",
        "Output-\n",
        "\n",
        "The original dictionary:  {1: 'a', 2: 'b', 3: 'c'}\n",
        "The modified dictionary:  {1: 'a', 2: 'changed', 3: 'c'}\n",
        "\n",
        "**Sets**\n",
        "\n",
        "Python program to show that a set is a mutable data type  \n",
        "  \n",
        "Creating a set  \n",
        "set_ = {1, 2, 3, 4}  \n",
        "print(\"The original set: \", set_)  \n",
        "  \n",
        "Updating the set using the update function  \n",
        "update_set = {'a', 'b', 'c'}  \n",
        "set_.update(update_set)  \n",
        "print(\"The modified set: \", set_)  \n",
        "\n",
        "Output:\n",
        "\n",
        "The original set:  {1, 2, 3, 4}\n",
        "The modified set:  {1, 2, 3, 4, 'b', 'a', 'c'}\n",
        "\n",
        "\n",
        "\n",
        "\n",
        "Python immutable data types:\n",
        "\n",
        "Numbers (Integer, Float, Complex, Decimal, Rational & Booleans)\n",
        "Tuples\n",
        "Strings\n",
        "Frozen Sets\n",
        "\n",
        "\n",
        "int\n",
        "Since int in Python is an immutable data type, we cannot change or update it.\n",
        "\n",
        "As we previously learned, immutable objects shift their memory address whenever they are updated.\n",
        "\n",
        "Here is an illustration of that:\n",
        "\n",
        "Code\n",
        "\n",
        "Python program to show that int is an immutable data type  \n",
        "  \n",
        "int_ = 25  \n",
        "print('The memory address of int before updating: ', id(int_))  \n",
        "  \n",
        "Modifying an int object by giving a new value to it  \n",
        "int_ = 35  \n",
        "print('The memory address of int after updating: ', id(int_))  \n",
        "Output:\n",
        "\n",
        "The memory address of int before updating:  11531680\n",
        "The memory address of int after updating:  11532000\n",
        "float\n",
        "Since the float object in Python is an immutable data type, we cannot alter or update it. As we previously learned, immutable objects shift their memory address whenever they are updated.\n",
        "\n",
        "Here is an illustration of that:\n",
        "\n",
        "Code\n",
        "\n",
        "Python program to show that float is an immutable data type  \n",
        "  \n",
        "float_ = float(34.5)  \n",
        "print('The memory address of float before updating: ', id(float_))  \n",
        "  \n",
        "Modifying the float object by giving a new value to it  \n",
        "float_ = float(32.5)  \n",
        "print('The memory address of float after updating: ', id(float_))  \n",
        "Output:\n",
        "\n",
        "The memory address of float before updating:  139992739659504\n",
        "The memory address of float after updating:  139992740128048\n",
        "String\n",
        "Since strings in Python are immutable data structures, we cannot add or edit any data. We encountered warnings stating that strings are not changeable when modifying any section of the string.\n",
        "\n",
        "Here is an illustration of that:\n",
        "\n",
        "Code\n",
        "\n",
        "Python program to show that a string is an immutable data type  \n",
        "  \n",
        "Creating a string object  \n",
        "string = 'hello peeps'  \n",
        "  \n",
        "Trying to modify the string object  \n",
        "string[0] = 'X'  \n",
        "print(string)  \n",
        "\n",
        "\n",
        "\n",
        "**Tuple**\n",
        "Because tuples in Python are immutable by nature, we are unable to add or modify any of their contents. Here is an illustration of that:\n",
        "\n",
        "Code\n",
        "\n",
        "Python program to show that a tuple is an immutable data type  \n",
        "  \n",
        "Creating a tuple object  \n",
        "tuple_ = (2, 3, 4, 5)  \n",
        "  \n",
        "Trying to modify the tuple object  \n",
        "tuple_[0] = 'X'  \n",
        "print(tulple_)  \n",
        "\n"
      ],
      "metadata": {
        "id": "hnaTaZdc0lDB"
      }
    },
    {
      "cell_type": "markdown",
      "source": [
        "Q.9. Write a code to create the given structure using only for loop.\n",
        "*\n",
        "***\n",
        "*****\n",
        "*******\n",
        "*********"
      ],
      "metadata": {
        "id": "nvb1mnBp4gOr"
      }
    },
    {
      "cell_type": "code",
      "source": [
        "n = int(input('Enter the number:'))\n",
        "for i in range(n):\n",
        "  for j in range(n-i-1):\n",
        "    print(\" \", end=\" \")\n",
        "  for j in range(2*i+1):\n",
        "    print(\"*\", end=\" \")\n",
        "  print()"
      ],
      "metadata": {
        "colab": {
          "base_uri": "https://localhost:8080/"
        },
        "id": "pUmU9ScS4_lF",
        "outputId": "e77381cd-d338-4a91-8bdc-dc16dd1b3acf"
      },
      "execution_count": null,
      "outputs": [
        {
          "output_type": "stream",
          "name": "stdout",
          "text": [
            "Enter the number:5\n",
            "        * \n",
            "      * * * \n",
            "    * * * * * \n",
            "  * * * * * * * \n",
            "* * * * * * * * * \n"
          ]
        }
      ]
    },
    {
      "cell_type": "markdown",
      "source": [
        "Q.10. Write a code to create the given structure using while loop.\n",
        "|||||||||\n",
        " |||||||\n",
        "  |||||\n",
        "   |||\n",
        "    |"
      ],
      "metadata": {
        "id": "G3sp9rnl4gT1"
      }
    },
    {
      "cell_type": "code",
      "source": [
        "\n",
        "n=9\n",
        "i=0\n",
        "while n>0:\n",
        "  print(\" \"*i+\"|\"*n)\n",
        "  i+=1\n",
        "  n-=2"
      ],
      "metadata": {
        "colab": {
          "base_uri": "https://localhost:8080/"
        },
        "id": "oCovH5l9d5dW",
        "outputId": "e9b5ba94-3152-431d-99c3-eabc5d4a2b88"
      },
      "execution_count": 2,
      "outputs": [
        {
          "output_type": "stream",
          "name": "stdout",
          "text": [
            "|||||||||\n",
            " |||||||\n",
            "  |||||\n",
            "   |||\n",
            "    |\n"
          ]
        }
      ]
    },
    {
      "cell_type": "code",
      "source": [],
      "metadata": {
        "id": "MFgwdjVgkHVP"
      },
      "execution_count": null,
      "outputs": []
    }
  ]
}