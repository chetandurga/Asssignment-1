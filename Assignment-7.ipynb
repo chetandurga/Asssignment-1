{
  "nbformat": 4,
  "nbformat_minor": 0,
  "metadata": {
    "colab": {
      "provenance": []
    },
    "kernelspec": {
      "name": "python3",
      "display_name": "Python 3"
    },
    "language_info": {
      "name": "python"
    }
  },
  "cells": [
    {
      "cell_type": "markdown",
      "source": [
        "Q.1. Create two int type variables, apply addition, subtraction, division and multiplications\n",
        "and store the results in variables. Then print the data in the following format by calling the\n",
        "variables:\n",
        "First variable is __ & second variable is __.\n",
        "Addition: __ + __ = __\n",
        "Subtraction: __ - __ = __\n",
        "Multiplication: __ * __ = __\n",
        "Division: __ / __ = __\n",
        "\n",
        "\n"
      ],
      "metadata": {
        "id": "eU6-pvbnTih6"
      }
    },
    {
      "cell_type": "code",
      "source": [
        "choice = input(\"Enter your choice (add/sub/div/mul):\")\n",
        "\n",
        "num1 = float(input(\"please enter your 1st number:\"))\n",
        "num2 = float(input(\"please enter your 2nd number:\"))\n",
        "\n",
        "if choice == \"add\":\n",
        "  print(num1, \"+\" , num2 , \"=\", num1+num2)\n",
        "elif choice == \"sub\":\n",
        "  print(num1, \"-\" , num2, \"=\", num1-num2)\n",
        "elif choice == \"div\":\n",
        "  print(num1, \"/\",  num2, \"=\", num1/num2)\n",
        "elif choice == \"mul\":\n",
        "  print(num1, \"*\",  num2, \"=\", num1*num2)\n",
        "else:\n",
        "  print(\"wrong choice\")\n",
        "\n",
        "#First variable is 10 & second variable is 20.\n",
        "#Addition: _10_ + _20_ = _30_\n",
        "#Subtraction: 10__ - __20 = _-10_\n",
        "#Multiplication: _10_ * _20_ = 200__\n",
        "#Division: _10_ / _20_ = _.5_"
      ],
      "metadata": {
        "colab": {
          "base_uri": "https://localhost:8080/"
        },
        "id": "dJytvG4ZhVgP",
        "outputId": "5a64bf0f-44d1-4523-faf0-395db398f1d7"
      },
      "execution_count": 10,
      "outputs": [
        {
          "output_type": "stream",
          "name": "stdout",
          "text": [
            "Enter your choice (add/sub/div/mul):mul\n",
            "please enter your 1st number:10\n",
            "please enter your 2nd number:20\n",
            "10.0 * 20.0 = 200.0\n"
          ]
        }
      ]
    },
    {
      "cell_type": "markdown",
      "source": [
        "Q.2. What is the difference between the following operators: (i) ‘/’ & ‘//’ (ii) ‘**’ & ‘^’\n",
        "\n",
        "Ans. i) '/ ' Float Division – Quotient of the two operands\n",
        "\n",
        "// Floor Division – Quotient of the two operands (Without fractional part) a//b\n",
        "\n",
        "ii) ‘’ - **Double stars (**) are exponentiation\n",
        "\n",
        "‘^’ - \tBitwise XOR Operator\n"
      ],
      "metadata": {
        "id": "B3C2YThSg9pm"
      }
    },
    {
      "cell_type": "markdown",
      "source": [
        "Q.3. List the logical operators.\n",
        "\n",
        "Ans- There are three types of logical operators in Python:\n",
        "\n",
        "And Operator,\n",
        "Or Operator,\n",
        "Not Operator,"
      ],
      "metadata": {
        "id": "Hb032_qvm5Nc"
      }
    },
    {
      "cell_type": "markdown",
      "source": [
        "Q.4. Explain right shift operator and left shift operator with examples.\n",
        "\n",
        "Ans- Python bitwise left shift operator shifts the left operand bits towards the left side for the given number of times in the right operand. In simple terms, the binary number is appended with 0s at the end.\n",
        "\n",
        "A = 10 => 1010\n",
        "\n",
        "A<<2 = 101000\n",
        "A<<2 = 40\n",
        "  \n",
        " Python right shift operator is exactly the opposite of the left shift operator. Then left side operand bits are moved towards the right side for the given number of times. In simple terms, the right side bits are removed.\n",
        "\n",
        " A = 10 => 1010\n",
        "\n",
        "A>>2 = 10=2\n",
        "\n"
      ],
      "metadata": {
        "id": "_hQJM45Nm5P8"
      }
    },
    {
      "cell_type": "markdown",
      "source": [
        "Q.5. Create a list containing int type data of length 15. Then write a code to check if 10 is present in the list or not."
      ],
      "metadata": {
        "id": "2nlps0PasWMY"
      }
    },
    {
      "cell_type": "code",
      "source": [
        "l = [1,2,3,5,6,7,8,9,10,11,12,13,14,15]\n",
        "\n",
        "print(\"our list\", l)\n",
        "\n",
        "if 10 in l:\n",
        "  print(\"item 10 is present in the list\")\n",
        "else:\n",
        "  print(\"item 10 is not present in the list\")\n"
      ],
      "metadata": {
        "colab": {
          "base_uri": "https://localhost:8080/"
        },
        "id": "5P6jp-idt1SP",
        "outputId": "0637a611-4ab3-4088-de08-c1d176e47135"
      },
      "execution_count": 14,
      "outputs": [
        {
          "output_type": "stream",
          "name": "stdout",
          "text": [
            "our list [1, 2, 3, 5, 6, 7, 8, 9, 10, 11, 12, 13, 14, 15]\n",
            "item 10 is present in the list\n"
          ]
        }
      ]
    }
  ]
}