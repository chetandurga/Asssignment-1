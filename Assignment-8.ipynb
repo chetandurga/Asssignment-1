{
  "nbformat": 4,
  "nbformat_minor": 0,
  "metadata": {
    "colab": {
      "provenance": [],
      "toc_visible": true
    },
    "kernelspec": {
      "name": "python3",
      "display_name": "Python 3"
    },
    "language_info": {
      "name": "python"
    }
  },
  "cells": [
    {
      "cell_type": "code",
      "execution_count": 1,
      "metadata": {
        "colab": {
          "base_uri": "https://localhost:8080/"
        },
        "id": "IGeoOWuV9fCg",
        "outputId": "e69eb71a-8bc9-411c-fd3f-eb290ced1427"
      },
      "outputs": [
        {
          "output_type": "stream",
          "name": "stdout",
          "text": [
            "hello, this is my first function\n"
          ]
        }
      ],
      "source": [
        "#Q1. In Python, what is the difference between a built-in function and a user-defined function? Provide an example of each.\n",
        "#Ans- Functions that readily comes with Python are called built-in functions. Python provides built-in functions like print(), etc.\n",
        "#but we can also create your own functions. These functions are known as user defines functions.\n",
        "\n",
        "# User defined functions\n",
        "#All the functions that are written by any us comes under the category of user defined functions. Below are the steps for writing user defined functions in Python.\n",
        "#In Python, def keyword is used to declare user defined functions.\n",
        "#An indented block of statements follows the function name and arguments which contains the body of the function\n",
        "\n",
        "#Example-\n",
        "def introduction():\n",
        "  print(\"hello, this is my first function\")\n",
        "\n",
        "  #call fuction\n",
        "introduction()\n",
        "\n",
        "#built-in function\n",
        "\n",
        "# bin()\tReturns the binary version of a number\n",
        "# bool()\tReturns the boolean value of the specified object\n",
        "\n"
      ]
    },
    {
      "cell_type": "markdown",
      "source": [
        "Q2. How can you pass arguments to a function in Python? Explain the difference between positional arguments and keyword arguments.\n",
        "\n",
        "Ans- Python provides different ways of passing the arguments during the function call from which we will explore keyword-only argument means passing the argument by using the parameter names during the function call.is\n",
        "\n",
        "Difference between the Keyword and Positional Argument\n",
        "Keyword-Only Argument"
      ],
      "metadata": {
        "id": "ny9cCWQVBlaU"
      }
    },
    {
      "cell_type": "markdown",
      "source": [
        "Q3. What is the purpose of the return statement in a function? Can a function have multiple return statements? Explain with an example.\n",
        "\n",
        "Ans- The return statement in a function is used to specify the value that the function should return when it is called. It allows a function to provide a result or output back to the code that called it. When a return statement is encountered, the function stops executing and immediately returns the specified value.\n",
        "\n",
        "A function can have multiple return statements, but only one of them will be executed during the function's execution. Once a return statement is executed, the function exits and no further code in the function is executed."
      ],
      "metadata": {
        "id": "sGX3arokpBeU"
      }
    },
    {
      "cell_type": "code",
      "source": [
        "def find_maximum(numbers):\n",
        "    if len(numbers) == 0:\n",
        "        return None  # Return None if the list is empty\n",
        "\n",
        "    maximum = numbers[0]\n",
        "    for num in numbers:\n",
        "        if num > maximum:\n",
        "            maximum = num\n",
        "\n",
        "    return maximum  # Return the maximum value found\n",
        "\n",
        "# Call the function\n",
        "result = find_maximum([4, 2, 9, 5, 1])\n",
        "print(result)  # Output: 9"
      ],
      "metadata": {
        "colab": {
          "base_uri": "https://localhost:8080/"
        },
        "id": "tEOUqE4opPXG",
        "outputId": "277546f3-2f77-4962-c94b-769a809540a0"
      },
      "execution_count": 1,
      "outputs": [
        {
          "output_type": "stream",
          "name": "stdout",
          "text": [
            "9\n"
          ]
        }
      ]
    },
    {
      "cell_type": "markdown",
      "source": [
        "Q4. What are lambda functions in Python? How are they different from regular functions? Provide an example where a lambda function can be useful.\n",
        "\n",
        "Ans-\n",
        "Lambda functions, also known as anonymous functions, are small and anonymous functions in Python that can be defined without a name. They are created using the lambda keyword, followed by a list of arguments, a colon, and an expression. The result of the expression is the value that the lambda function returns.\n",
        "\n",
        "Lambda functions are different from regular functions in Python in a few ways:\n",
        "\n",
        "Syntax: Lambda functions have a concise syntax compared to regular functions. They are typically used for simple, one-line operations.\n",
        "\n",
        "Namelessness: Lambda functions are anonymous, which means they do not have a name. They are defined and used inline where they are needed, without assigning them to a variable.\n",
        "\n",
        "Limited Functionality: Lambda functions are limited in terms of functionality. They can only consist of a single expression, and they cannot contain statements or multiple lines of code.\n",
        "\n",
        "Here's an example to illustrate the use of a lambda function:"
      ],
      "metadata": {
        "id": "j2bj3J1pp_Fi"
      }
    },
    {
      "cell_type": "code",
      "source": [
        "# Regular function to calculate the square of a number\n",
        "def square(x):\n",
        "    return x ** 2\n",
        "\n",
        "# Lambda function to calculate the square of a number\n",
        "square_lambda = lambda x: x ** 2\n",
        "\n",
        "# Calling the regular function\n",
        "result1 = square(5)\n",
        "print(result1)  # Output: 25\n",
        "\n",
        "# Calling the lambda function\n",
        "result2 = square_lambda(5)\n",
        "print(result2)  # Output: 25"
      ],
      "metadata": {
        "colab": {
          "base_uri": "https://localhost:8080/"
        },
        "id": "QcdEVlTQqGvh",
        "outputId": "f8549fee-aa19-42cc-9436-494ad81cf475"
      },
      "execution_count": 2,
      "outputs": [
        {
          "output_type": "stream",
          "name": "stdout",
          "text": [
            "25\n",
            "25\n"
          ]
        }
      ]
    },
    {
      "cell_type": "markdown",
      "source": [
        "Lambda functions are particularly useful when we need to pass a simple function as an argument to another function, such as in the case of sorting or filtering data. Here's an example where a lambda function can be useful:"
      ],
      "metadata": {
        "id": "39vsppBfqaX5"
      }
    },
    {
      "cell_type": "code",
      "source": [
        "# Sorting a list of tuples based on the second element of each tuple\n",
        "data = [(1, 5), (3, 2), (4, 6), (2, 1)]\n",
        "sorted_data = sorted(data, key=lambda x: x[1])\n",
        "print(sorted_data)\n",
        "# Output: [(2, 1), (3, 2), (1, 5), (4, 6)]"
      ],
      "metadata": {
        "colab": {
          "base_uri": "https://localhost:8080/"
        },
        "id": "4XNIaQKrqbeB",
        "outputId": "8a1e803d-7c5b-48cd-b4e7-f66ed6523153"
      },
      "execution_count": 3,
      "outputs": [
        {
          "output_type": "stream",
          "name": "stdout",
          "text": [
            "[(2, 1), (3, 2), (1, 5), (4, 6)]\n"
          ]
        }
      ]
    },
    {
      "cell_type": "markdown",
      "source": [
        "Q5. How does the concept of \"scope\" apply to functions in Python? Explain the difference between local scope and global scope.\n",
        "\n",
        "Ans- The concept of \"scope\" in Python refers to the visibility and accessibility of variables within different parts of a program. Scopes determine which parts of the code can access a variable, and where the variable's value is stored in memory. In Python, functions play a significant role in defining scopes.\n",
        "\n",
        "Local Scope:\n",
        "\n",
        "1. Local scope refers to variables that are defined within a specific function.\n",
        "Variables defined within a function are only accessible within that function's block of code.\n",
        "Local variables are created when the function is called and destroyed when the function finishes executing.\n",
        "Other functions or code outside the function cannot access these local variables."
      ],
      "metadata": {
        "id": "S-2-PoRnq2Go"
      }
    },
    {
      "cell_type": "code",
      "source": [
        "def my_function():\n",
        "    x = 10  # Local variable\n",
        "    print(x)\n",
        "\n",
        "my_function()  # Output: 10\n",
        "print(x)  # Error: NameError: name 'x' is not defined"
      ],
      "metadata": {
        "colab": {
          "base_uri": "https://localhost:8080/",
          "height": 217
        },
        "id": "-fbCo_2EsyfU",
        "outputId": "efbf7134-a047-49a4-a652-b9577f539ca8"
      },
      "execution_count": 4,
      "outputs": [
        {
          "output_type": "stream",
          "name": "stdout",
          "text": [
            "10\n"
          ]
        },
        {
          "output_type": "error",
          "ename": "NameError",
          "evalue": "ignored",
          "traceback": [
            "\u001b[0;31m---------------------------------------------------------------------------\u001b[0m",
            "\u001b[0;31mNameError\u001b[0m                                 Traceback (most recent call last)",
            "\u001b[0;32m<ipython-input-4-6ddb97ce47da>\u001b[0m in \u001b[0;36m<cell line: 6>\u001b[0;34m()\u001b[0m\n\u001b[1;32m      4\u001b[0m \u001b[0;34m\u001b[0m\u001b[0m\n\u001b[1;32m      5\u001b[0m \u001b[0mmy_function\u001b[0m\u001b[0;34m(\u001b[0m\u001b[0;34m)\u001b[0m  \u001b[0;31m# Output: 10\u001b[0m\u001b[0;34m\u001b[0m\u001b[0;34m\u001b[0m\u001b[0m\n\u001b[0;32m----> 6\u001b[0;31m \u001b[0mprint\u001b[0m\u001b[0;34m(\u001b[0m\u001b[0mx\u001b[0m\u001b[0;34m)\u001b[0m  \u001b[0;31m# Error: NameError: name 'x' is not defined\u001b[0m\u001b[0;34m\u001b[0m\u001b[0;34m\u001b[0m\u001b[0m\n\u001b[0m",
            "\u001b[0;31mNameError\u001b[0m: name 'x' is not defined"
          ]
        }
      ]
    },
    {
      "cell_type": "markdown",
      "source": [
        "2. Global Scope:\n",
        "\n",
        "Global scope refers to variables that are defined outside of any function or in the global scope.\n",
        "Global variables are accessible from anywhere in the program, including within functions.\n",
        "Global variables are created when they are defined and persist throughout the entire program's execution."
      ],
      "metadata": {
        "id": "9usBuwgBtfv8"
      }
    },
    {
      "cell_type": "code",
      "source": [
        "x = 10  # Global variable\n",
        "\n",
        "def my_function():\n",
        "    print(x)  # Accessing the global variable\n",
        "\n",
        "my_function()  # Output: 10"
      ],
      "metadata": {
        "colab": {
          "base_uri": "https://localhost:8080/"
        },
        "id": "BMJHyYk5tj57",
        "outputId": "efc1b9a1-d2f2-4bac-f2ed-a3ee45059bba"
      },
      "execution_count": 5,
      "outputs": [
        {
          "output_type": "stream",
          "name": "stdout",
          "text": [
            "10\n"
          ]
        }
      ]
    },
    {
      "cell_type": "markdown",
      "source": [
        "When a variable is referenced within a function, Python first searches for the variable within the local scope. If it's not found, Python then looks for the variable in the global scope. If the variable is not found in either scope, a NameError is raised.\n",
        "\n",
        "It's important to note that global variables can be accessed within a function, but modifying them requires the use of the global keyword to explicitly indicate that the variable is global and not a new local variable. Otherwise, if you try to assign a value to a variable within a function without using global, Python will create a new local variable with the same name instead.\n",
        "\n",
        "Understanding and managing variable scope is crucial for writing clean and bug-free code. By properly scoping variables, you can avoid naming conflicts, encapsulate data within functions, and ensure modularity in your code."
      ],
      "metadata": {
        "id": "PCVl8PhCttpM"
      }
    },
    {
      "cell_type": "markdown",
      "source": [
        "Q6. How can you use the \"return\" statement in a Python function to return multiple values?\n",
        "\n",
        "Ans - In Python, the return statement in a function can be used to return multiple values by packing them into a data structure such as a tuple, list, or dictionary. Here are a few approaches to return multiple values from a function:\n",
        "\n",
        "1. Using a Tuple:\n",
        "You can pack multiple values into a tuple and return the tuple using the return statement. The calling code can then unpack the tuple to retrieve the individual values."
      ],
      "metadata": {
        "id": "xjnQ5sBxtxx8"
      }
    },
    {
      "cell_type": "code",
      "source": [
        "def get_values():\n",
        "    x = 10\n",
        "    y = 20\n",
        "    return x, y  # Return values as a tuple\n",
        "\n",
        "result = get_values()\n",
        "a, b = result  # Unpack the tuple\n",
        "print(a, b)  # Output: 10 20"
      ],
      "metadata": {
        "colab": {
          "base_uri": "https://localhost:8080/"
        },
        "id": "XZV3rgdX2GCK",
        "outputId": "4d052354-2d9a-40e4-ef3c-2fb376b05d81"
      },
      "execution_count": 6,
      "outputs": [
        {
          "output_type": "stream",
          "name": "stdout",
          "text": [
            "10 20\n"
          ]
        }
      ]
    },
    {
      "cell_type": "markdown",
      "source": [
        "2. Using a List:\n",
        "Similar to tuples, you can pack multiple values into a list and return the list using the return statement. The calling code can access the individual values using indexing."
      ],
      "metadata": {
        "id": "Z4kaPNh82RrZ"
      }
    },
    {
      "cell_type": "code",
      "source": [
        "def get_values():\n",
        "    x = 10\n",
        "    y = 20\n",
        "    return [x, y]  # Return values as a list\n",
        "\n",
        "result = get_values()\n",
        "a = result[0]  # Access individual values using indexing\n",
        "b = result[1]\n",
        "print(a, b)  # Output: 10 20"
      ],
      "metadata": {
        "colab": {
          "base_uri": "https://localhost:8080/"
        },
        "id": "k6sK96FY2abi",
        "outputId": "05cf00a9-69d7-44a1-b853-d64716cd196f"
      },
      "execution_count": 7,
      "outputs": [
        {
          "output_type": "stream",
          "name": "stdout",
          "text": [
            "10 20\n"
          ]
        }
      ]
    },
    {
      "cell_type": "markdown",
      "source": [
        "3. Using a Dictionary:\n",
        "You can also pack multiple values into a dictionary and return the dictionary using the return statement. This approach allows you to associate each value with a specific key, making it easier to access the values by their corresponding keys."
      ],
      "metadata": {
        "id": "UmyhhgeX2gri"
      }
    },
    {
      "cell_type": "code",
      "source": [
        "def get_values():\n",
        "    x = 10\n",
        "    y = 20\n",
        "    return {'a': x, 'b': y}  # Return values as a dictionary\n",
        "\n",
        "result = get_values()\n",
        "a = result['a']  # Access values using keys\n",
        "b = result['b']\n",
        "print(a, b)  # Output: 10 20"
      ],
      "metadata": {
        "colab": {
          "base_uri": "https://localhost:8080/"
        },
        "id": "frOb1KQS2mEb",
        "outputId": "c53b78c5-5f38-4614-e53e-1756f90595c4"
      },
      "execution_count": 8,
      "outputs": [
        {
          "output_type": "stream",
          "name": "stdout",
          "text": [
            "10 20\n"
          ]
        }
      ]
    },
    {
      "cell_type": "markdown",
      "source": [
        "These approaches enable you to return multiple values from a function using a single return statement. By packing the values into a data structure, you can maintain their relationship and retrieve them conveniently in the calling code."
      ],
      "metadata": {
        "id": "s6WhdC4p2yyb"
      }
    },
    {
      "cell_type": "markdown",
      "source": [
        "Q7. What is the difference between the \"pass by value\" and \"pass by reference\" concepts when it comes to function arguments in Python?\n",
        "\n",
        "Ans - In Python, the concepts of \"pass by value\" and \"pass by reference\" are often discussed in the context of function arguments. However, it's important to note that Python uses a different mechanism called \"passing by object reference\" which can be a bit confusing. Let's understand the differences:\n",
        "\n",
        "1. Pass by Value:\n",
        "In pass by value, a copy of the value of a variable is passed to a function. Any changes made to the parameter within the function do not affect the original variable in the calling code."
      ],
      "metadata": {
        "id": "kzmHxW4g27I8"
      }
    },
    {
      "cell_type": "code",
      "source": [
        "def increment(x):\n",
        "    x += 1\n",
        "\n",
        "num = 5\n",
        "increment(num)\n",
        "print(num)  # Output: 5 (unchanged)"
      ],
      "metadata": {
        "colab": {
          "base_uri": "https://localhost:8080/"
        },
        "id": "GXoHgCJ2KriG",
        "outputId": "9dba9f79-6263-4bf5-8afb-d28e47f9d118"
      },
      "execution_count": 9,
      "outputs": [
        {
          "output_type": "stream",
          "name": "stdout",
          "text": [
            "5\n"
          ]
        }
      ]
    },
    {
      "cell_type": "markdown",
      "source": [
        "2. Pass by Reference (or Reference Passing):\n",
        "In pass by reference, a reference to a variable is passed to a function. Any changes made to the parameter within the function affect the original variable in the calling code.\n",
        "\n",
        "However, in Python, the concept of pass by reference is not directly applicable to function arguments. Instead, what actually happens is \"passing by object reference.\""
      ],
      "metadata": {
        "id": "m3GcpHBiLF2l"
      }
    },
    {
      "cell_type": "code",
      "source": [
        "def modify_list(lst):\n",
        "    lst.append(4)  # Modifying the list\n",
        "\n",
        "numbers = [1, 2, 3]\n",
        "modify_list(numbers)\n",
        "print(numbers)  # Output: [1, 2, 3, 4]"
      ],
      "metadata": {
        "colab": {
          "base_uri": "https://localhost:8080/"
        },
        "id": "KDvWhgZyLfO8",
        "outputId": "48d91c51-3e11-48ea-b395-2762d71ddcd3"
      },
      "execution_count": 11,
      "outputs": [
        {
          "output_type": "stream",
          "name": "stdout",
          "text": [
            "[1, 2, 3, 4]\n"
          ]
        }
      ]
    },
    {
      "cell_type": "markdown",
      "source": [
        "3. Pass by Reference (or Reference Passing):\n",
        "In pass by reference, a reference to a variable is passed to a function. Any changes made to the parameter within the function affect the original variable in the calling code.\n",
        "\n",
        "However, in Python, the concept of pass by reference is not directly applicable to function arguments. Instead, what actually happens is \"passing by object reference.\""
      ],
      "metadata": {
        "id": "QQ3oeIJqLLmM"
      }
    },
    {
      "cell_type": "code",
      "source": [
        "def modify_string(s):\n",
        "    s += \" World\"  # Reassigning the string\n",
        "\n",
        "greeting = \"Hello\"\n",
        "modify_string(greeting)\n",
        "print(greeting)  # Output: Hello"
      ],
      "metadata": {
        "colab": {
          "base_uri": "https://localhost:8080/"
        },
        "id": "Tp0n3xADLRWf",
        "outputId": "ad94bd0b-0042-4a0f-fa4a-5fcb545ffbd0"
      },
      "execution_count": 12,
      "outputs": [
        {
          "output_type": "stream",
          "name": "stdout",
          "text": [
            "Hello\n"
          ]
        }
      ]
    },
    {
      "cell_type": "markdown",
      "source": [
        "In summary, while Python does not strictly follow the \"pass by value\" or \"pass by reference\" concepts, it employs \"passing by object reference.\" The behavior depends on the mutability of the object being passed. Mutable objects can be modified within a function, affecting the original object, while immutable objects cannot be modified, but they can be reassigned within the function."
      ],
      "metadata": {
        "id": "4LmA8Bh-LqK0"
      }
    },
    {
      "cell_type": "markdown",
      "source": [
        "Q8. Create a function that can intake integer or decimal value and do following operations:\n",
        "a. Logarithmic function (log x)\n",
        "b. Exponential function (exp(x))\n",
        "c. Power function with base 2 (2 x )\n",
        "d. Square root"
      ],
      "metadata": {
        "id": "x0jb2W1_MSrM"
      }
    },
    {
      "cell_type": "code",
      "source": [
        "import math\n",
        "\n",
        "def perform_operations(x):\n",
        "    result = {}\n",
        "\n",
        "    result['logarithm'] = math.log(x)\n",
        "    result['exponential'] = math.exp(x)\n",
        "    result['power'] = math.pow(2, x)\n",
        "    result['square_root'] = math.sqrt(x)\n",
        "\n",
        "    return result\n",
        "\n",
        "# Example usage\n",
        "value = 5.7\n",
        "operations_result = perform_operations(value)\n",
        "\n",
        "print(f\"Logarithm of {value}: {operations_result['logarithm']}\")\n",
        "print(f\"Exponential of {value}: {operations_result['exponential']}\")\n",
        "print(f\"Power of 2 raised to {value}: {operations_result['power']}\")\n",
        "print(f\"Square root of {value}: {operations_result['square_root']}\")"
      ],
      "metadata": {
        "colab": {
          "base_uri": "https://localhost:8080/"
        },
        "id": "3R4UYC25MRYc",
        "outputId": "4fdcd51d-dc4a-485f-8767-5a1b7c04cb3c"
      },
      "execution_count": 13,
      "outputs": [
        {
          "output_type": "stream",
          "name": "stdout",
          "text": [
            "Logarithm of 5.7: 1.7404661748405046\n",
            "Exponential of 5.7: 298.8674009670603\n",
            "Power of 2 raised to 5.7: 51.98415336679908\n",
            "Square root of 5.7: 2.3874672772626644\n"
          ]
        }
      ]
    },
    {
      "cell_type": "markdown",
      "source": [
        "Q9. Create a function that takes a full name as an argument and returns first name and last name."
      ],
      "metadata": {
        "id": "mnbjXpJeNkyz"
      }
    },
    {
      "cell_type": "code",
      "source": [
        "def extract_first_last_name(full_name):\n",
        "    names = full_name.split()\n",
        "    first_name = names[0]\n",
        "    last_name = names[-1]\n",
        "    return first_name, last_name\n",
        "\n",
        "# Example usage\n",
        "name = \"Chetan Suresh\"\n",
        "first_name, last_name = extract_first_last_name(name)\n",
        "print(\"First Name:\", first_name)\n",
        "print(\"Last Name:\", last_name)"
      ],
      "metadata": {
        "colab": {
          "base_uri": "https://localhost:8080/"
        },
        "id": "QYSgYx-ZNjmL",
        "outputId": "f7e386c0-98f7-417a-e4e7-b9035dbcad5f"
      },
      "execution_count": 15,
      "outputs": [
        {
          "output_type": "stream",
          "name": "stdout",
          "text": [
            "First Name: Chetan\n",
            "Last Name: Suresh\n"
          ]
        }
      ]
    },
    {
      "cell_type": "code",
      "source": [],
      "metadata": {
        "id": "5h0fKxMRNlz1"
      },
      "execution_count": null,
      "outputs": []
    }
  ]
}