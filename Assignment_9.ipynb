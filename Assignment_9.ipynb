{
  "nbformat": 4,
  "nbformat_minor": 0,
  "metadata": {
    "colab": {
      "provenance": []
    },
    "kernelspec": {
      "name": "python3",
      "display_name": "Python 3"
    },
    "language_info": {
      "name": "python"
    }
  },
  "cells": [
    {
      "cell_type": "markdown",
      "source": [
        "Q1. What is a lambda function in Python, and how does it differ from a regular function?\n",
        "\n",
        "\n",
        "\n",
        "Ans-Lambda functions are small, anonymous functions defined with the lambda keyword."
      ],
      "metadata": {
        "id": "m7tI5Lrt4aJf"
      }
    },
    {
      "cell_type": "code",
      "source": [
        "# Regular function\n",
        "def add(x, y):\n",
        "    return x + y\n",
        "\n",
        "result = add(5, 3)\n",
        "print(result)  # Output: 8\n",
        "\n",
        "# Equivalent lambda function\n",
        "add_lambda = lambda x, y: x + y\n",
        "\n",
        "result_lambda = add_lambda(5, 3)\n",
        "print(result_lambda)  # Output: 8"
      ],
      "metadata": {
        "id": "Xy3ybkNh5VUQ"
      },
      "execution_count": null,
      "outputs": []
    },
    {
      "cell_type": "markdown",
      "source": [
        "Q2. Can a lambda function in Python have multiple arguments? If yes, how can you define and use\n",
        "them?\n",
        "\n",
        "Ans-They can take any number of arguments but can only have one expression.\n"
      ],
      "metadata": {
        "id": "qX--i2VP5YVd"
      }
    },
    {
      "cell_type": "code",
      "source": [
        "# Define a lambda function that takes three arguments and returns their sum\n",
        "add_three_numbers = lambda x, y, z: x + y + z\n",
        "\n",
        "# Use the lambda function\n",
        "result = add_three_numbers(5, 3, 8)\n",
        "print(result)  # Output: 16"
      ],
      "metadata": {
        "colab": {
          "base_uri": "https://localhost:8080/"
        },
        "id": "gJ1Prt_P5582",
        "outputId": "e6f735de-e385-48fc-b3b5-f665af8ae242"
      },
      "execution_count": 1,
      "outputs": [
        {
          "output_type": "stream",
          "name": "stdout",
          "text": [
            "16\n"
          ]
        }
      ]
    },
    {
      "cell_type": "markdown",
      "source": [
        "Q3. How are lambda functions typically used in Python? Provide an example use case."
      ],
      "metadata": {
        "id": "slxie0DG6NN9"
      }
    },
    {
      "cell_type": "code",
      "source": [
        "concat = lambda x, y: x + y\n",
        "print(concat(\"Hello\", \" World\"))"
      ],
      "metadata": {
        "colab": {
          "base_uri": "https://localhost:8080/"
        },
        "id": "wNatXEyn6TJq",
        "outputId": "10f64ac7-543d-446f-9ce2-ab700690dee5"
      },
      "execution_count": 3,
      "outputs": [
        {
          "output_type": "stream",
          "name": "stdout",
          "text": [
            "Hello World\n"
          ]
        }
      ]
    },
    {
      "cell_type": "code",
      "source": [
        "even_or_odd = lambda x: 'even' if x%2==0 else 'odd'\n",
        "print(even_or_odd(7))  # Output: 'odd"
      ],
      "metadata": {
        "colab": {
          "base_uri": "https://localhost:8080/"
        },
        "id": "y8m4gSBd6XC-",
        "outputId": "34261b77-9893-4f58-c7da-d348b90bf98c"
      },
      "execution_count": 4,
      "outputs": [
        {
          "output_type": "stream",
          "name": "stdout",
          "text": [
            "odd\n"
          ]
        }
      ]
    },
    {
      "cell_type": "markdown",
      "source": [
        "Q4. What are the advantages and limitations of lambda functions compared to regular functions in\n",
        "Python?\n",
        "\n",
        "\n",
        "Ans-Advantages of Lambda Functions:\n",
        "\n",
        "Concise Syntax: Lambda functions allow you to define functions in a more concise manner, without the need to use the def keyword and provide a separate function name. This can be useful when you have a small, simple function that doesn't require a full-fledged definition.\n",
        "\n",
        "Anonymous Functions: Lambda functions are anonymous, meaning they don't have a name. This can be advantageous in situations where you only need the function for a short period or as a one-time use function. It eliminates the need to define a separate function and helps keep your code clean and readable.\n",
        "\n",
        "Function as an Argument: Lambda functions are often used when you need to pass a function as an argument to another function. They can be easily created inline and passed directly as arguments without the need for a named function.\n",
        "\n",
        "Limitations of Lambda Functions:\n",
        "\n",
        "Single Expression: Lambda functions are limited to a single expression. This means they can only contain a single line of code and can't include statements or multiple lines of logic. If you need more complex functionality or multiple statements, a regular function defined with def is more appropriate.\n",
        "\n",
        "Limited Readability: Although lambda functions offer a concise syntax, they can sometimes make the code less readable, especially when the expressions become complex or when lambda functions are used inappropriately for larger, more complicated functions. In such cases, using regular functions with a proper name and structure can enhance code readability and maintainability.\n",
        "\n",
        "Lack of Documentation: Lambda functions do not support docstrings, which are used to provide documentation for regular functions. Documentation is important for code maintainability and collaboration, so if you require detailed documentation for your functions, regular functions with docstrings are a better choice.\n",
        "\n",
        "Overall, lambda functions are a useful tool in Python when you need to create small, one-line functions or when you want to pass a function as an argument. However, for larger or more complex functions that require multiple lines of code or extensive documentation, regular functions defined with def are more suitable."
      ],
      "metadata": {
        "id": "Jt5y7xLx9PI_"
      }
    },
    {
      "cell_type": "markdown",
      "source": [
        "Q5. Are lambda functions in Python able to access variables defined outside of their own scope?\n",
        "Explain with an example.\n",
        "\n",
        "\n",
        "Ans- Yes, lambda functions in Python can access variables defined outside of their own scope. This is possible through a mechanism called lexical scoping or closures.\n",
        "\n",
        "In Python, when a lambda function is defined, it retains access to variables from the surrounding scope in which it is defined. This includes variables defined in the global scope or variables defined in the enclosing function if the lambda function is defined inside another function.\n",
        "\n"
      ],
      "metadata": {
        "id": "vC2-jJPW9rLw"
      }
    },
    {
      "cell_type": "code",
      "source": [
        "#Here's an example that demonstrates how a lambda function can access variables from its enclosing scope:\n",
        "\n",
        "def outer_function():\n",
        "    message = \"Hello\"\n",
        "\n",
        "    inner_lambda = lambda name: message + \" \" + name\n",
        "\n",
        "    return inner_lambda\n",
        "\n",
        "greeting = outer_function()\n",
        "result = greeting(\"John\")\n",
        "\n",
        "print(result)  # Output: Hello John"
      ],
      "metadata": {
        "colab": {
          "base_uri": "https://localhost:8080/"
        },
        "id": "bGPBcSk9-AL9",
        "outputId": "cb9f5c6b-9d80-477a-c1c8-ca018edc643e"
      },
      "execution_count": 5,
      "outputs": [
        {
          "output_type": "stream",
          "name": "stdout",
          "text": [
            "Hello John\n"
          ]
        }
      ]
    },
    {
      "cell_type": "code",
      "source": [
        "#6. Write a lambda function to calculate the square of a given number.\n",
        "\n",
        "square = lambda x: x ** 2\n",
        "print(square(6))  # Output: 36"
      ],
      "metadata": {
        "colab": {
          "base_uri": "https://localhost:8080/"
        },
        "id": "D0lNnnC8-LeX",
        "outputId": "196ef9fa-971c-4a6c-b609-c776330d784e"
      },
      "execution_count": 7,
      "outputs": [
        {
          "output_type": "stream",
          "name": "stdout",
          "text": [
            "36\n"
          ]
        }
      ]
    },
    {
      "cell_type": "code",
      "source": [
        "#7. Create a lambda function to find the maximum value in a list of integers.\n",
        "\n",
        "numbers = [5, 8, 2, 10, 3]\n",
        "\n",
        "max_value = lambda lst: max(lst)\n",
        "\n",
        "result = max_value(numbers)\n",
        "print(result)  # Output: 10"
      ],
      "metadata": {
        "colab": {
          "base_uri": "https://localhost:8080/"
        },
        "id": "Qh_YnoTS-VGk",
        "outputId": "043c978c-03f6-4151-e30f-b5dc3185b65c"
      },
      "execution_count": 8,
      "outputs": [
        {
          "output_type": "stream",
          "name": "stdout",
          "text": [
            "10\n"
          ]
        }
      ]
    },
    {
      "cell_type": "code",
      "source": [
        "#8. Implement a lambda function to filter out all the even numbers from a list of integers.\n",
        "\n",
        "numbers = [1, 2, 3, 4, 5, 6, 7, 8, 9, 10]\n",
        "\n",
        "even_numbers = list(filter(lambda x: x % 2 == 0, numbers))\n",
        "\n",
        "print(even_numbers)  # Output: [2, 4, 6, 8, 10]"
      ],
      "metadata": {
        "id": "2-41MlsP_UgI"
      },
      "execution_count": null,
      "outputs": []
    },
    {
      "cell_type": "code",
      "source": [
        "#9. Write a lambda function to sort a list of strings in ascending order based on the length of each\n",
        "#string.\n",
        "strings = [\"apple\", \"banana\", \"orange\", \"grape\", \"kiwi\"]\n",
        "\n",
        "sorted_strings = sorted(strings, key=lambda x: len(x))\n",
        "\n",
        "print(sorted_strings)\n",
        "\n"
      ],
      "metadata": {
        "colab": {
          "base_uri": "https://localhost:8080/"
        },
        "id": "anW7yrMxAYfB",
        "outputId": "cedb25e3-3c1b-4823-d4b8-1d63621f6160"
      },
      "execution_count": 11,
      "outputs": [
        {
          "output_type": "stream",
          "name": "stdout",
          "text": [
            "['kiwi', 'apple', 'grape', 'banana', 'orange']\n"
          ]
        }
      ]
    },
    {
      "cell_type": "code",
      "source": [
        "#10. Create a lambda function that takes two lists as input and returns a new list containing the\n",
        "#common elements between the two lists.\n",
        "\n",
        "list1 = [1, 2, 3, 4, 5]\n",
        "list2 = [4, 5, 6, 7, 8]\n",
        "\n",
        "common_elements = list(filter(lambda x: x in list2, list1))\n",
        "\n",
        "print(common_elements)"
      ],
      "metadata": {
        "colab": {
          "base_uri": "https://localhost:8080/"
        },
        "id": "qsRcdzDPAnHk",
        "outputId": "13d6a6ff-1c7e-4bad-ed3b-0f03884ee6c6"
      },
      "execution_count": 12,
      "outputs": [
        {
          "output_type": "stream",
          "name": "stdout",
          "text": [
            "[4, 5]\n"
          ]
        }
      ]
    },
    {
      "cell_type": "code",
      "source": [
        "#11. Write a recursive function to calculate the factorial of a given positive integer.\n",
        "\n",
        "def factorial(n):\n",
        "    if n == 0 or n == 1:\n",
        "        return 1\n",
        "    else:\n",
        "        return n * factorial(n - 1)\n",
        "\n",
        "# Example usage\n",
        "result = factorial(4)\n",
        "print(result)  # Output: 24"
      ],
      "metadata": {
        "colab": {
          "base_uri": "https://localhost:8080/"
        },
        "id": "je8MmSYeBmUM",
        "outputId": "c2a14de1-d72f-4375-e14c-88a9e965f084"
      },
      "execution_count": 17,
      "outputs": [
        {
          "output_type": "stream",
          "name": "stdout",
          "text": [
            "24\n"
          ]
        }
      ]
    },
    {
      "cell_type": "code",
      "source": [
        "#12. Implement a recursive function to compute the nth Fibonacci number.\n",
        "\n",
        "def my_fibonacci(n):\n",
        "    a, b = 0, 1\n",
        "    for i in range(n):\n",
        "        print(a)\n",
        "        a, b = b, a + b\n",
        "\n",
        "my_fibonacci(6)"
      ],
      "metadata": {
        "colab": {
          "base_uri": "https://localhost:8080/"
        },
        "id": "36x0FiTaCBFs",
        "outputId": "40c9b58b-0dd0-423b-92e0-baca3023fc69"
      },
      "execution_count": 20,
      "outputs": [
        {
          "output_type": "stream",
          "name": "stdout",
          "text": [
            "0\n",
            "1\n",
            "1\n",
            "2\n",
            "3\n",
            "5\n"
          ]
        }
      ]
    },
    {
      "cell_type": "markdown",
      "source": [
        "The Fibonacci sequence is a set of numbers in which each number is the sum of the two numbers before it. It usually starts with 0 and 1. In certain variants, it begins with two 1's.\n",
        "\n",
        "Here's the beginning of the Fibonacci sequence:\n",
        "\n",
        "0, 1, 1, 2, 3, 5, 8, 13, 21, ...\n",
        "\n",
        "You can see the pattern:\n",
        "\n",
        "0 + 1 = 1\n",
        "1 + 1 = 2\n",
        "1 + 2 = 3\n",
        "2 + 3 = 5\n",
        "3 + 5 = 8\n",
        "...\n",
        "Each number is the sum of the two numbers before it."
      ],
      "metadata": {
        "id": "zoWnEOomQPQP"
      }
    },
    {
      "cell_type": "code",
      "source": [
        "#13. Create a recursive function to find the sum of all the elements in a given list.\n",
        "\n",
        "def recursive_sum(lst):\n",
        "    if not lst:\n",
        "        return 0\n",
        "    else:\n",
        "        return lst[0] + recursive_sum(lst[1:])\n",
        "\n",
        "# Example usage\n",
        "numbers = [1, 2, 3, 4, 5,7]\n",
        "result = recursive_sum(numbers)\n",
        "print(result)  # Output: 22"
      ],
      "metadata": {
        "colab": {
          "base_uri": "https://localhost:8080/"
        },
        "id": "N878kWePQbfW",
        "outputId": "14df9c44-7923-4df0-83ba-2ec247ad853c"
      },
      "execution_count": 22,
      "outputs": [
        {
          "output_type": "stream",
          "name": "stdout",
          "text": [
            "22\n"
          ]
        }
      ]
    },
    {
      "cell_type": "code",
      "source": [
        "#14. Write a recursive function to determine whether a given string is a palindrome.\n",
        "\n",
        "\n",
        "def is_palindrome(string):\n",
        "    if len(string) <= 1:\n",
        "        return True\n",
        "    elif string[0] != string[-1]:\n",
        "        return False\n",
        "    else:\n",
        "        return is_palindrome(string[1:-1])\n",
        "\n",
        "# Example usage\n",
        "string1 = \"racecar\"\n",
        "result1 = is_palindrome(string1)\n",
        "print(result1)  # Output: True\n",
        "\n",
        "string2 = \"hello\"\n",
        "result2 = is_palindrome(string2)\n",
        "print(result2)  # Output: False"
      ],
      "metadata": {
        "colab": {
          "base_uri": "https://localhost:8080/"
        },
        "id": "_d9MPphOQ1_e",
        "outputId": "bf486e87-0a8c-4f47-8ee9-5b118e8517b1"
      },
      "execution_count": 23,
      "outputs": [
        {
          "output_type": "stream",
          "name": "stdout",
          "text": [
            "True\n",
            "False\n"
          ]
        }
      ]
    },
    {
      "cell_type": "code",
      "source": [
        "#15. Implement a recursive function to find the greatest common divisor (GCD) of two positive integers.\n",
        "\n",
        "def gcd(a, b):\n",
        "    if b == 0:\n",
        "        return a\n",
        "    else:\n",
        "        return gcd(b, a % b)\n",
        "\n",
        "# Example usage\n",
        "result = gcd(48, 18)\n",
        "print(result)  # Output: 6"
      ],
      "metadata": {
        "colab": {
          "base_uri": "https://localhost:8080/"
        },
        "id": "UvhRDR_ZU017",
        "outputId": "269dfe00-6716-4113-c5c3-c846aa5c0f85"
      },
      "execution_count": 24,
      "outputs": [
        {
          "output_type": "stream",
          "name": "stdout",
          "text": [
            "6\n"
          ]
        }
      ]
    },
    {
      "cell_type": "code",
      "source": [],
      "metadata": {
        "id": "j9zLbhjsU5UD"
      },
      "execution_count": null,
      "outputs": []
    }
  ]
}